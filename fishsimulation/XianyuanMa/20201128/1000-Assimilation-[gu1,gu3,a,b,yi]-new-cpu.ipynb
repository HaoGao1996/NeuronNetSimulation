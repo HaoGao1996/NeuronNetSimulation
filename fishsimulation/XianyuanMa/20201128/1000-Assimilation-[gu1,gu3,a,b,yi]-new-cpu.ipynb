{
 "cells": [
  {
   "cell_type": "code",
   "execution_count": 3,
   "metadata": {
    "ExecuteTime": {
     "end_time": "2020-11-28T03:21:54.121742Z",
     "start_time": "2020-11-28T03:21:54.110761Z"
    }
   },
   "outputs": [
    {
     "ename": "ModuleNotFoundError",
     "evalue": "No module named 'random_initialize'",
     "output_type": "error",
     "traceback": [
      "\u001b[1;31m---------------------------------------------------------------------------\u001b[0m",
      "\u001b[1;31mModuleNotFoundError\u001b[0m                       Traceback (most recent call last)",
      "\u001b[1;32m<ipython-input-3-6b847dd3b08a>\u001b[0m in \u001b[0;36m<module>\u001b[1;34m\u001b[0m\n\u001b[0;32m      7\u001b[0m \u001b[1;32mimport\u001b[0m \u001b[0mos\u001b[0m\u001b[1;33m\u001b[0m\u001b[1;33m\u001b[0m\u001b[0m\n\u001b[0;32m      8\u001b[0m \u001b[1;32mimport\u001b[0m \u001b[0mtime\u001b[0m\u001b[1;33m\u001b[0m\u001b[1;33m\u001b[0m\u001b[0m\n\u001b[1;32m----> 9\u001b[1;33m \u001b[1;32mimport\u001b[0m \u001b[0mrandom_initialize\u001b[0m \u001b[1;32mas\u001b[0m \u001b[0mri\u001b[0m\u001b[1;33m\u001b[0m\u001b[1;33m\u001b[0m\u001b[0m\n\u001b[0m",
      "\u001b[1;31mModuleNotFoundError\u001b[0m: No module named 'random_initialize'"
     ]
    }
   ],
   "source": [
    "import torch\n",
    "import numpy as np\n",
    "import pickle\n",
    "import matplotlib.pylab as plt\n",
    "import sys\n",
    "sys.path.append(\"C:/Users/lenovo/Desktop/spliking_nn_for_brain_simulation-master\")\n",
    "import os\n",
    "import time\n",
    "import random_initialize as ri"
   ]
  },
  {
   "cell_type": "code",
   "execution_count": 3,
   "metadata": {},
   "outputs": [],
   "source": [
    "with open('1000_Ca_signal_500ms.pickle','rb+') as f:\n",
    "    Y=pickle.load(f)\n",
    "with open('1000_Ca_signal_500ms2.pickle','rb+') as f:\n",
    "    Ct=pickle.load(f)\n",
    "with open('1000_Ca_signal_property.pickle','rb+') as f:\n",
    "    Ca_property=pickle.load(f)"
   ]
  },
  {
   "cell_type": "code",
   "execution_count": 4,
   "metadata": {},
   "outputs": [],
   "source": [
    "torch.set_default_tensor_type(torch.FloatTensor)\n",
    "if torch.cuda.is_available():\n",
    "    #device = torch.device(\"cuda\")\n",
    "    device = torch.device(\"cpu\")"
   ]
  },
  {
   "cell_type": "code",
   "execution_count": 5,
   "metadata": {},
   "outputs": [
    {
     "name": "stdout",
     "output_type": "stream",
     "text": [
      "torch.Size([1000, 22]) torch.Size([4, 1000, 1000])\n"
     ]
    }
   ],
   "source": [
    "#导入节点信息与连接信息\n",
    "path = 'C:/Users/lenovo/Desktop/spliking_nn_for_brain_simulation-master/single_small_test/single'\n",
    "property, w_uij = ri.connect_for_block(path)\n",
    "N, K=1,1000\n",
    "property = property.reshape([N * K, -1])"
   ]
  },
  {
   "cell_type": "code",
   "execution_count": 6,
   "metadata": {},
   "outputs": [],
   "source": [
    "real_gu_i = property[:,10:14].mean(axis=0)#获取正确的gu_i"
   ]
  },
  {
   "cell_type": "code",
   "execution_count": 7,
   "metadata": {},
   "outputs": [],
   "source": [
    "class block:\n",
    "    def __init__(self, node_property, w_uij, delta_t=1):\n",
    "        # A block is a set of spliking neurals with inner full connections, we consider 4 connections:\n",
    "        # AMPA, NMDA, GABAa and GABAb\n",
    "        # shape note:\n",
    "        #\n",
    "        # N: numbers of neural cells\n",
    "        # K: connections kind, = 4 (AMPA, NMDA, GABAa and GABAb)\n",
    "        assert len(w_uij.shape) == 3\n",
    "        N = w_uij.shape[1]#神经元的数量\n",
    "        K = w_uij.shape[0]#K=4，4种神经递质\n",
    "\n",
    "        self.w_uij = w_uij  # shape [K, N, N] #w_uij[a,b,c]->c号神经元对b号神经元的a种神经递质的连接权值\n",
    "        self.delta_t = delta_t\n",
    "\n",
    "        self.update_property(node_property)\n",
    "\n",
    "        self.t_ik_last = torch.zeros([N], device=self.w_uij.device) # shape [N]\n",
    "        self.V_i = torch.ones([N], device=self.w_uij.device) * (self.V_th + self.V_reset)/2  # membrane potential, shape: [N]\n",
    "        self.J_ui = torch.zeros([K, N], device=self.w_uij.device)  # shape [K, N]\n",
    "        self.t = torch.tensor(0., device=self.w_uij.device)  # scalar\n",
    "\n",
    "        self.update_I_syn()\n",
    "\n",
    "    @staticmethod\n",
    "    def expand(t, size):\n",
    "        t = torch.tensor(t)\n",
    "        shape = list(t.shape) + [1] * (len(size) - len(t.shape))\n",
    "        return t.reshape(shape).expand(size)\n",
    "\n",
    "    def update_J_ui(self, delta_t, active):\n",
    "        # active shape: [N], dtype bool\n",
    "        # t is a scalar\n",
    "        self.J_ui = self.J_ui * torch.exp(-delta_t / self.tau_ui)\n",
    "        J_ui_activate_part = self.bmm(self.w_uij, active.float()) # !!! this part can be sparse.\n",
    "        self.J_ui += J_ui_activate_part\n",
    "        pass\n",
    "\n",
    "    @staticmethod\n",
    "    def bmm(H, b):\n",
    "        if isinstance(H, torch.sparse.FloatTensor):#torch.sparse.Tensor\n",
    "            return torch.stack([torch.sparse.mm(H[i], b.unsqueeze(1)).squeeze(1) for i in range(4)])\n",
    "        else:\n",
    "            return torch.matmul(H, b.unsqueeze(0).unsqueeze(2)).squeeze(2)\n",
    "\n",
    "    def update_I_syn(self):\n",
    "        self.I_ui = self.g_ui * (self.V_ui - self.V_i) * self.J_ui\n",
    "        # [K, N]            [K, N] - [K, 1]\n",
    "        self.I_syn = self.I_ui.sum(dim=0)\n",
    "        pass\n",
    "\n",
    "    def update_Vi(self, delta_t):\n",
    "        main_part = -self.g_Li * (self.V_i - self.V_L)\n",
    "        C_diff_Vi = main_part + self.I_syn + self.I_extern_Input\n",
    "        delta_Vi = delta_t / self.C * C_diff_Vi\n",
    "\n",
    "        Vi_normal = self.V_i + delta_Vi\n",
    "\n",
    "        # if t < self.t_ik_last + self.T_ref:\n",
    "        #   V_i = V_reset\n",
    "        # else:\n",
    "        #   V_i = Vi_normal\n",
    "        is_not_saturated = (self.t >= self.t_ik_last + self.T_ref)\n",
    "        V_i = torch.where(is_not_saturated, Vi_normal, self.V_reset)\n",
    "        #print(is_not_saturated.sum())\n",
    "        active = (V_i >= self.V_th)#判断是否激发\n",
    "        self.V_i = torch.min(V_i, self.V_th)\n",
    "        return active\n",
    "\n",
    "    def update_t_ik_last(self, active):\n",
    "        self.t_ik_last = torch.where(active, self.t, self.t_ik_last)\n",
    "\n",
    "    def run(self, noise_rate=0.01, isolated=False):\n",
    "        self.t += self.delta_t#时间步进\n",
    "        self.active = self.update_Vi(self.delta_t)#状态是否激发\n",
    "        if not isolated:#孤立设置\n",
    "            new_active = (torch.rand(self.w_uij.shape[2], device=self.w_uij.device) < noise_rate) | self.active\n",
    "        else:#非孤立设置\n",
    "            new_active = (torch.rand(self.w_uij.shape[2], device=self.w_uij.device) < noise_rate)\n",
    "        self.update_J_ui(self.delta_t, new_active)\n",
    "        self.update_I_syn()\n",
    "        self.update_t_ik_last(self.active)\n",
    "\n",
    "        mean_Vi = []\n",
    "        sum_activate = []\n",
    "        for i in range(self.sub_idx.max().int() + 1):\n",
    "            mean_Vi.append(self.V_i[self.sub_idx == i].mean())\n",
    "            sum_activate.append(self.active[self.sub_idx == i].float().sum())\n",
    "\n",
    "        return torch.stack(sum_activate), torch.stack(mean_Vi)\n",
    "\n",
    "    def update_property(self, node_property):\n",
    "        # update property\n",
    "        # column of node_property is\n",
    "        # E/I, blocked_in_stat, has_extern_Input, no_input, C, g_Li, V_L, V_th, V_reset, g_ui, V_ui, tau_ui\n",
    "        E_I, blocked_in_stat, I_extern_Input, sub_idx, C, T_ref, g_Li, V_L, V_th, V_reset, g_ui, V_ui, tau_ui = \\\n",
    "            node_property.transpose(0, 1).split([1, 1, 1, 1, 1, 1, 1, 1, 1, 1, 4, 4, 4])\n",
    "\n",
    "        self.I_extern_Input = I_extern_Input.squeeze(0) # extern_input index , shape[K]\n",
    "        self.V_ui = V_ui  # AMPA, NMDA, GABAa and GABAb potential, shape [K, N]\n",
    "        self.tau_ui = tau_ui  # shape [K, N]\n",
    "        self.g_ui = g_ui  # shape [K, N]\n",
    "        self.g_Li = g_Li.squeeze(0)  # shape [N]\n",
    "        self.V_L = V_L.squeeze(0)  # shape [N]\n",
    "        self.C = C.squeeze(0)   # shape [N]\n",
    "        self.sub_idx = sub_idx.squeeze(0) # shape [N]\n",
    "        self.V_th = V_th.squeeze(0)   # shape [N]\n",
    "        self.V_reset = V_reset.squeeze(0)  # shape [N]\n",
    "        self.T_ref = T_ref.squeeze(0) # shape [N]\n",
    "        return True\n",
    "\n",
    "    def update_conn_weight(self, conn_idx, conn_weight):\n",
    "        # update part of conn_weight\n",
    "        # conn_idx shape is [4, X']\n",
    "        # conn_weight shape is [X']\n",
    "        self.w_uij[conn_idx] = conn_weight\n",
    "        return True"
   ]
  },
  {
   "cell_type": "code",
   "execution_count": 13,
   "metadata": {},
   "outputs": [],
   "source": [
    "def cov_calculator_tensor(samples,mu,state_size):\n",
    "    sample_size =  samples.shape[1]\n",
    "    C = torch.zeros([state_size,state_size],device =device)\n",
    "    for i in range(sample_size):\n",
    "        C+=torch.matmul((samples[:,i].reshape(-1,1)-mu),(samples[:,i].reshape(-1,1)-mu).T)\n",
    "    C = C/(sample_size-1)\n",
    "    return C\n",
    "#@jit(nopython=True)\n",
    "def sigmoid_func(x,a,b):\n",
    "    assert a<b  \n",
    "    return (a+b*torch.exp(x))/(1+torch.exp(x))\n",
    "def sigmoid_func(x,a,b):\n",
    "    assert a<b  \n",
    "    return (a*torch.exp(-x)+b)/(1+torch.exp(-x))\n",
    "#@jit(nopython=True)\n",
    "def inv_sigmoid_func(x,a,b):\n",
    "    assert len(x[x<=a])==0 and len(x[x>=b])==0\n",
    "    #d = (b-a)/1000\n",
    "    #x[x<=a] = a+d #截断\n",
    "    #x[x>=b] = b-d #截断\n",
    "    return torch.log((x-a)/(b-x))\n",
    "\n",
    "def inv_sigmoid_func_num(x,a,b):\n",
    "    #assert len(x[x<=a])==0 and len(x[x>=b])==0\n",
    "    d = (b-a)/1000\n",
    "    x = a+d if x<=a else x#截断\n",
    "    x = b-d if x>=b else x#截断\n",
    "    return torch.log((x-a)/(b-x))"
   ]
  },
  {
   "cell_type": "code",
   "execution_count": 125,
   "metadata": {},
   "outputs": [],
   "source": [
    "#initialization\n",
    "#state: gu_1, gu_3, a,b, yj, Y\n",
    "delta_t =1\n",
    "T_size = 20\n",
    "obs_interval=1\n",
    "state_size = 6\n",
    "samples_size = 5\n",
    "V_th = -50;V_reset = -65\n",
    "mu0=0#mu0=-3\n",
    "gu_i_C0 = 1**2\n",
    "C0 = 1**2\n",
    "ratio = 10;ratio2 = 5\n",
    "bounds=np.array([[real_gu_i[0]/ratio,real_gu_i[0]*ratio],[real_gu_i[2]/ratio,real_gu_i[2]*ratio],\\\n",
    "                 [Ca_property[0]/ratio2,Ca_property[0]*ratio2],[Ca_property[1]/ratio2,Ca_property[1]*ratio2],\\\n",
    "                 [Ca_property[2]/ratio2,Ca_property[2]*ratio2]])\n",
    "gu_1_low_bound,gu_1_upper_bound = bounds[0,:]\n",
    "gu_3_low_bound,gu_3_upper_bound = bounds[1,:]\n",
    "a_low_bound,a_upper_bound = bounds[2,:]\n",
    "b_low_bound,b_upper_bound = bounds[3,:]\n",
    "yj_low_bound,yj_upper_bound = bounds[4,:]\n",
    "\n",
    "all_cell_states = torch.zeros([samples_size,K,state_size]) #所有sample的cell的参数全体\n",
    "all_cell_states[:,:,0] = torch.tensor(np.random.normal(0,gu_i_C0,[samples_size,K])) #gu_1\n",
    "all_cell_states[:,:,1] = torch.tensor(np.random.normal(0,gu_i_C0,[samples_size,K])) #gu_3\n",
    "all_cell_states[:,:,2:5] = torch.tensor(np.random.normal(0,C0,[samples_size,K,3]))\n",
    "all_cell_states[:,:,5] = 0\n",
    "\n",
    "B_list = []\n",
    "for sample_index in range(samples_size):\n",
    "    #初始化各block的神经元状态\n",
    "    property_=property[:]\n",
    "    property_[:,10] = sigmoid_func(all_cell_states[sample_index,:,0],gu_1_low_bound,gu_1_upper_bound)\n",
    "    property_[:,12] = sigmoid_func(all_cell_states[sample_index,:,1],gu_3_low_bound,gu_3_upper_bound)\n",
    "    B = block(\n",
    "    node_property=property_,\n",
    "    w_uij=w_uij,\n",
    "    delta_t=delta_t,\n",
    ")\n",
    "    B_list.append(B)"
   ]
  },
  {
   "cell_type": "code",
   "execution_count": 126,
   "metadata": {
    "scrolled": true
   },
   "outputs": [
    {
     "name": "stdout",
     "output_type": "stream",
     "text": [
      "t:0\n",
      "tensor([0.1006, 0.0684, 0.0761, 0.1184, 0.0645])\n",
      "tensor([0.0303, 0.1826, 0.0974, 0.1113, 0.1403])\n",
      "tensor([0.1753, 0.0870, 0.0570, 0.0761, 0.1056])\n",
      "tensor([0.1867, 0.1080, 0.1224, 0.1265, 0.1590])\n",
      "tensor([0.1182, 0.1175, 0.1183, 0.0146, 0.1127])\n"
     ]
    },
    {
     "ename": "RuntimeError",
     "evalue": "expand(torch.FloatTensor{[5, 1000, 6]}, size=[5, 6]): the number of sizes provided (2) must be greater or equal to the number of dimensions in the tensor (3)",
     "output_type": "error",
     "traceback": [
      "\u001b[1;31m---------------------------------------------------------------------------\u001b[0m",
      "\u001b[1;31mRuntimeError\u001b[0m                              Traceback (most recent call last)",
      "\u001b[1;32m<timed exec>\u001b[0m in \u001b[0;36m<module>\u001b[1;34m\u001b[0m\n",
      "\u001b[1;31mRuntimeError\u001b[0m: expand(torch.FloatTensor{[5, 1000, 6]}, size=[5, 6]): the number of sizes provided (2) must be greater or equal to the number of dimensions in the tensor (3)"
     ]
    }
   ],
   "source": [
    "%%time\n",
    "#undate\n",
    "cells_state_size = state_size*K\n",
    "diag_list = np.ones(cells_state_size)\n",
    "Sigma_z =np.diag(diag_list**2)\n",
    "gama = torch.tensor(0.1**2)\n",
    "\n",
    "gain_weight_ = 0.9\n",
    "other_gain_weight = (1-gain_weight_)/(K-1)\n",
    "gain_weight = torch.ones([samples_size,K,state_size])*other_gain_weight\n",
    "\n",
    "all_sum_activate = torch.zeros([T_size,samples_size])\n",
    "all_mean_Vi = torch.zeros([T_size,samples_size])\n",
    "all_mean_Vi[0,:] = (V_th+V_reset)/2\n",
    "all_Vi = torch.zeros([T_size,samples_size,K])\n",
    "all_Vi[0,:,:] = (V_th+V_reset)/2\n",
    "all_Ct = torch.zeros([T_size,samples_size,K])\n",
    "all_Yt = torch.zeros([T_size,samples_size,K])\n",
    "H = torch.zeros([1,cells_state_size]);H[0,cells_state_size-1]=1\n",
    "for t in range(T_size):\n",
    "    print(\"t:{}\".format(t))\n",
    "    for sample_index,Block in enumerate(B_list):\n",
    "        #设置gu_i\n",
    "        Block.g_ui[0,:] = sigmoid_func(all_cell_states[sample_index,:,0],gu_1_low_bound,gu_1_upper_bound)\n",
    "        Block.g_ui[2,:] = sigmoid_func(all_cell_states[sample_index,:,1],gu_3_low_bound,gu_3_upper_bound)\n",
    "        print( sigmoid_func(all_cell_states[sample_index,0:5,0],gu_1_low_bound,gu_1_upper_bound))\n",
    "        #更新系统状态\n",
    "        sum_activate, mean_Vi = Block.run(noise_rate=0.007)\n",
    "        #收集统计信息\n",
    "        all_sum_activate[t,sample_index] = sum_activate\n",
    "        all_mean_Vi[t,sample_index] = mean_Vi\n",
    "        all_Vi[t,sample_index,:] = Block.V_i\n",
    "\n",
    "        if t%obs_interval==0:#观测节点\n",
    "            a = sigmoid_func(all_cell_states[sample_index,1,2],a_low_bound,a_upper_bound)###所有cell共享一个a,b,yj\n",
    "            b = sigmoid_func(all_cell_states[sample_index,1,3],b_low_bound,b_upper_bound)\n",
    "            yj = sigmoid_func(all_cell_states[sample_index,1,4],yj_low_bound,yj_upper_bound)\n",
    "            #a,b,yj=Ca_property\n",
    "            V_i_j_ = all_Vi[t-obs_interval:t,sample_index,:]\n",
    "            all_Ct[t,sample_index,:]=yj*all_Ct[t-1,sample_index,:]+(V_i_j_>=V_th).sum(axis=0)\n",
    "            #Yt=a*(all_Ct[t,sample_index,:]+b)#+epslo[i,:]\n",
    "            all_Yt[t,sample_index,:] = a*(all_Ct[t,sample_index,:]+b)#+epslo[i,:]\n",
    "            all_cell_states[sample_index,:,state_size-1] = all_Yt[t,sample_index,:]\n",
    "\n",
    "    if t%obs_interval==0:#观测节点,Kalman update\n",
    "        all_gain = 0\n",
    "        for cell_index in range(K):\n",
    "            mu_cell = all_cell_states[:,:,:].mean(axis=0).reshape(-1,1)\n",
    "            all_cell_states_copy = all_cell_states[:,:,:]\n",
    "            all_cell_states_copy=all_cell_states_copy.reshape(samples_size,-1).T#注意是否存在乱序\n",
    "            all_cell_states_copy+=torch.tensor(np.random.normal(0,0.02,[cells_state_size,samples_size]))#draw \n",
    "            #C_new = cov_calculator_tensor(all_cell_states_copy,mu_cell,cells_state_size)#太慢了\n",
    "            deviation = all_cell_states_copy-mu_cell\n",
    "            half_cov = torch.matmul(deviation[-1,:].reshape(-1,samples_size),deviation.T)/(samples_size-1)\n",
    "            S = torch.matmul(half_cov,H.T)+gama\n",
    "            K_kf = half_cov.T/S\n",
    "            if cell_index==1:\n",
    "                print(\"K_kf:{}\".format(K_kf))\n",
    "            samples_obs = torch.normal(Y[t,cell_index],gama,[samples_size])#观测量的分析\n",
    "            gain=torch.matmul(K_kf,(samples_obs - all_cell_states_copy[-1,:]).reshape(1,-1)).reshape([state_size, K, samples_size]).permute(2,1,0)\n",
    "            gain_weight_copy  = gain_weight[:]\n",
    "            gain_weight_copy[:,cell_index,:] = gain_weight\n",
    "            gain*=gain_weight_copy\n",
    "            all_gain+=gain\n",
    "        all_gain[all_gain>1]=1;all_gain[all_gain<-1]=-1;\n",
    "        print(\"all_gain_max:{}all_gain_min:{}\".format(all_gain.max(),all_gain.min()))\n",
    "        print(\"S:{}\".format(S))\n",
    "        all_cell_states+=all_gain"
   ]
  },
  {
   "cell_type": "code",
   "execution_count": 119,
   "metadata": {},
   "outputs": [
    {
     "data": {
      "text/plain": [
       "tensor(nan)"
      ]
     },
     "execution_count": 119,
     "metadata": {},
     "output_type": "execute_result"
    }
   ],
   "source": [
    "all_cell_states[:,1,0].mean(axis=0)"
   ]
  },
  {
   "cell_type": "code",
   "execution_count": 120,
   "metadata": {},
   "outputs": [
    {
     "data": {
      "text/plain": [
       "<matplotlib.collections.PathCollection at 0x2e2cdbe2320>"
      ]
     },
     "execution_count": 120,
     "metadata": {},
     "output_type": "execute_result"
    },
    {
     "data": {
      "image/png": "[encoded data removed]",
      "text/plain": [
       "<Figure size 432x288 with 1 Axes>"
      ]
     },
     "metadata": {
      "needs_background": "light"
     },
     "output_type": "display_data"
    }
   ],
   "source": [
    "plt.scatter(range(K),sigmoid_func(all_cell_states[:,:,0].mean(axis=0),gu_1_low_bound,gu_1_upper_bound))"
   ]
  },
  {
   "cell_type": "code",
   "execution_count": 121,
   "metadata": {},
   "outputs": [
    {
     "data": {
      "text/plain": [
       "<matplotlib.collections.PathCollection at 0x2e2ce7cc860>"
      ]
     },
     "execution_count": 121,
     "metadata": {},
     "output_type": "execute_result"
    },
    {
     "data": {
      "image/png": "[encoded data removed]",
      "text/plain": [
       "<Figure size 432x288 with 1 Axes>"
      ]
     },
     "metadata": {
      "needs_background": "light"
     },
     "output_type": "display_data"
    }
   ],
   "source": [
    "plt.scatter(range(K),sigmoid_func(all_cell_states[:,:,1].mean(axis=0),gu_3_low_bound,gu_3_upper_bound))"
   ]
  },
  {
   "cell_type": "code",
   "execution_count": 122,
   "metadata": {
    "scrolled": true
   },
   "outputs": [
    {
     "data": {
      "text/plain": [
       "[<matplotlib.lines.Line2D at 0x2e2ce81b5f8>]"
      ]
     },
     "execution_count": 122,
     "metadata": {},
     "output_type": "execute_result"
    },
    {
     "data": {
      "image/png": "[encoded data removed]",
      "text/plain": [
       "<Figure size 432x288 with 1 Axes>"
      ]
     },
     "metadata": {
      "needs_background": "light"
     },
     "output_type": "display_data"
    }
   ],
   "source": [
    "plt.plot(all_sum_activate.mean(axis=1))"
   ]
  },
  {
   "cell_type": "code",
   "execution_count": 123,
   "metadata": {},
   "outputs": [
    {
     "data": {
      "text/plain": [
       "[<matplotlib.lines.Line2D at 0x2e2ce87d8d0>]"
      ]
     },
     "execution_count": 123,
     "metadata": {},
     "output_type": "execute_result"
    },
    {
     "data": {
      "image/png": "[encoded data removed]",
      "text/plain": [
       "<Figure size 432x288 with 1 Axes>"
      ]
     },
     "metadata": {
      "needs_background": "light"
     },
     "output_type": "display_data"
    }
   ],
   "source": [
    "plt.plot(all_Vi[:,:,1].mean(axis=1))"
   ]
  },
  {
   "cell_type": "code",
   "execution_count": 124,
   "metadata": {},
   "outputs": [
    {
     "data": {
      "text/plain": [
       "[<matplotlib.lines.Line2D at 0x2e2ce8de978>]"
      ]
     },
     "execution_count": 124,
     "metadata": {},
     "output_type": "execute_result"
    },
    {
     "data": {
      "image/png": "[encoded data removed]",
      "text/plain": [
       "<Figure size 432x288 with 1 Axes>"
      ]
     },
     "metadata": {
      "needs_background": "light"
     },
     "output_type": "display_data"
    }
   ],
   "source": [
    "plt.plot(all_Vi[:,1,200])"
   ]
  },
  {
   "cell_type": "code",
   "execution_count": null,
   "metadata": {},
   "outputs": [],
   "source": []
  }
 ],
 "metadata": {
  "kernelspec": {
   "display_name": "Python [conda env:pytorch]",
   "language": "python",
   "name": "conda-env-pytorch-py"
  },
  "language_info": {
   "codemirror_mode": {
    "name": "ipython",
    "version": 3
   },
   "file_extension": ".py",
   "mimetype": "text/x-python",
   "name": "python",
   "nbconvert_exporter": "python",
   "pygments_lexer": "ipython3",
   "version": "3.7.9"
  },
  "latex_envs": {
   "LaTeX_envs_menu_present": true,
   "autoclose": true,
   "autocomplete": true,
   "bibliofile": "biblio.bib",
   "cite_by": "apalike",
   "current_citInitial": 1,
   "eqLabelWithNumbers": true,
   "eqNumInitial": 1,
   "hotkeys": {
    "equation": "Ctrl-E",
    "itemize": "Ctrl-I"
   },
   "labels_anchors": false,
   "latex_user_defs": false,
   "report_style_numbering": true,
   "user_envs_cfg": true
  },
  "varInspector": {
   "cols": {
    "lenName": 16,
    "lenType": 16,
    "lenVar": 40
   },
   "kernels_config": {
    "python": {
     "delete_cmd_postfix": "",
     "delete_cmd_prefix": "del ",
     "library": "var_list.py",
     "varRefreshCmd": "print(var_dic_list())"
    },
    "r": {
     "delete_cmd_postfix": ") ",
     "delete_cmd_prefix": "rm(",
     "library": "var_list.r",
     "varRefreshCmd": "cat(var_dic_list()) "
    }
   },
   "types_to_exclude": [
    "module",
    "function",
    "builtin_function_or_method",
    "instance",
    "_Feature"
   ],
   "window_display": false
  }
 },
 "nbformat": 4,
 "nbformat_minor": 4
}
