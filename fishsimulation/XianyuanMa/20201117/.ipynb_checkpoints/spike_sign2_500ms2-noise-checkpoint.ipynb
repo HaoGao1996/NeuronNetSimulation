{
 "cells": [
  {
   "cell_type": "code",
   "execution_count": 3,
   "metadata": {},
   "outputs": [],
   "source": [
    "import torch\n",
    "import numpy as np\n",
    "import pickle\n",
    "import random\n",
    "import matplotlib.pyplot as plt"
   ]
  },
  {
   "cell_type": "code",
   "execution_count": 4,
   "metadata": {},
   "outputs": [],
   "source": [
    "class block:\n",
    "    def __init__(self, node_property,bosong,delta_t=1,noise_sigma = 0.02):#delta 为0.1-1\n",
    "        # A block is a set of spiking neurals with inner full connections, we consider 4 connections:\n",
    "        # AMPA, NMDA, GABAa and GABAb\n",
    "        # shape note:\n",
    "        #\n",
    "        # N: numbers of neural cells\n",
    "        # K: connections kind, = 4 (AMPA, NMDA, GABAa and GABAb)\n",
    "     \n",
    "        N = 1\n",
    "        K = 4\n",
    "        self.noise_sigma=noise_sigma\n",
    "        self.bosong=bosong\n",
    "        \n",
    "        self.delta_t = delta_t\n",
    "\n",
    "        self.I_extern_Input = torch.tensor(node_property[:, 2]) # extern_input index , shape[K]\n",
    "        self.V_ui =torch.tensor(node_property[:, 14:18].reshape([4,1]))  # AMPA, NMDA, GABAa and GABAb potential, shape [K, N]\n",
    "        self.tau_ui = torch.tensor(node_property[:, 18:22].reshape([4,1]))# shape [K, N]\n",
    "        self.g_ui = torch.tensor(node_property[:, 10:14].reshape([4,1])) # shape [K, N]\n",
    "        self.g_Li = torch.tensor(node_property[:, 6])  # shape [N]\n",
    "        self.V_L = torch.tensor(node_property[:, 7])  # shape [N]\n",
    "        self.C = torch.tensor(node_property[:, 4])   # shape [N]\n",
    "        self.sub_idx = torch.tensor(node_property[:, 3]) # shape [N]\n",
    "        self.V_th = torch.tensor(node_property[:, 8])  # shape [N]\n",
    "        self.V_reset = torch.tensor(node_property[:, 9]) # shape [N]\n",
    "        self.T_ref = torch.tensor(node_property[:, 5]) # shape [N]\n",
    "\n",
    "        self.t_ik_last = torch.zeros([N]) # shape [N]\n",
    "        self.V_i = torch.ones([N]) * (self.V_th + self.V_reset)/2  # membrane potential, shape: [N]\n",
    "        self.J_ui = torch.zeros([K, N])  # shape [K, N]\n",
    "        ###问题：J_ui的初值是否有特殊要求？\n",
    "        self.t = torch.tensor(0.)  # scalar\n",
    "\n",
    "        self.update_I_syn()\n",
    "\n",
    "\n",
    "    def update_J_ui(self, delta_t):\n",
    "        # active shape: [N], dtype bool\n",
    "        # t is a scalar\n",
    "        g=np.array(self.t)\n",
    "        self.J_ui = self.J_ui * torch.exp(-delta_t / self.tau_ui) #shape:4*1\n",
    "        bosong1= self.bosong[:,int(g)]#产生01的泊松分布\n",
    "        J_ui_activate_part = torch.tensor(bosong1).view(4,1) # !!! this part can be sparse.#####输入一个泊松分布\n",
    "        self.J_ui += J_ui_activate_part\n",
    "        pass\n",
    "\n",
    "\n",
    "    def update_I_syn(self):\n",
    "        self.I_ui = self.g_ui * (self.V_ui - self.V_i) * self.J_ui\n",
    "        # [K, N]            [K, N] - [K, 1]\n",
    "        self.I_syn = self.I_ui.sum(dim=0)\n",
    "        pass\n",
    "\n",
    "    def update_Vi(self, delta_t):\n",
    "        main_part = -self.g_Li * (self.V_i - self.V_L)\n",
    "        C_diff_Vi = main_part + self.I_syn + self.I_extern_Input#I_extern_Input为外部刺激\n",
    "        delta_Vi = delta_t / self.C * C_diff_Vi\n",
    "\n",
    "        Vi_normal = self.V_i + delta_Vi\n",
    "\n",
    "        is_not_saturated = (self.t >= self.t_ik_last + self.T_ref)#判断是否放处于静息期\n",
    "        V_i = torch.where(is_not_saturated, Vi_normal, self.V_reset)#将处在静息期的设置为静息状态\n",
    "        #print(is_not_saturated.sum())\n",
    "        active = (V_i >= self.V_th)#判断是否超过阈值，放电\n",
    "        self.V_i = torch.min(V_i, self.V_th)+np.random.normal(0,self.noise_sigma**2)\n",
    "        return active\n",
    "\n",
    "    def update_t_ik_last(self, active):\n",
    "        self.t_ik_last = torch.where(active, self.t, self.t_ik_last)#如果激发了，就把t_ik_last设为此时刻\n",
    "\n",
    "    def run(self, noise_rate=0.01, isolated=False):\n",
    "        self.t += self.delta_t #更新时间\n",
    "        self.active = self.update_Vi(self.delta_t)#处于激活/不激活\n",
    "        \n",
    "        self.update_J_ui(self.delta_t)\n",
    "        self.update_I_syn()\n",
    "        self.update_t_ik_last(self.active)\n",
    "\n",
    "#         mean_Vi = []\n",
    "#         sum_activate = []\n",
    "#         for i in range(self.sub_idx.max().int() + 1):\n",
    "#             mean_Vi.append(self.V_i[self.sub_idx == i].mean())\n",
    "#             sum_activate.append(self.active[self.sub_idx == i].float().sum())\n",
    "        return self.V_i,self.t#输出电压变化和时间\n",
    "\n",
    "#         return torch.stack(sum_activate), torch.stack(mean_Vi)\n",
    "\n"
   ]
  },
  {
   "cell_type": "code",
   "execution_count": 5,
   "metadata": {},
   "outputs": [],
   "source": [
    "def generate_property(C=1,T_ref=5,g_Li=0.001,V_Ls=-75,V_th=-50,V_reset=-65,\\\n",
    "                      g_ui =np.array([10/500, 5/6000, 3/60, 1/1000]),V_ui = np.array([0, 0, -70, -100]),\\\n",
    "                     tao_ui =np.array ([2, 40, 10, 50])):\n",
    "    # each node contain such property:\n",
    "    #          E/I, blocked_in_stat, I_extern_Input, sub_block_idx, C, T_ref, g_Li, V_L, V_th, V_reset, g_ui, V_ui, tao_ui\n",
    "    #   size:  1,   1,               1,                1,           1, 1,     1,    1,   1,    1,       4     4,    4\n",
    "    #   dtype: b,   b,               f,                i,           f, f,     f,    f,   f,    f,       f,    f,    f\n",
    "    # b means bool(although storage as float), f means float.\n",
    "\n",
    "    property = np.zeros([1, 22], dtype=np.float32)\n",
    "    E_thresh = 1\n",
    "    property[:, 0] = 1\n",
    "    property[:, 1] = 0 \n",
    "    property[:, 2] = 0\n",
    "    property[:, 3] = 0\n",
    "    \n",
    "    property[:, 4] = C #膜电容，一般1\n",
    "    property[:, 5] = T_ref #不应期，1-10，原来为5\n",
    "    property[:, 6] = g_Li #渗流突触导电率 一般为0.03\n",
    "    property[:, 7] = V_Ls #渗流电位 一般为-75\n",
    "    property[:, 8] = V_th #发放阈值电位 一般为-50\n",
    "    property[:, 9] = V_reset #重置电位 一般为-65\n",
    "\n",
    "#   g_ui =np.array([5/275, 5/4000, 3/30, 3/730])\n",
    "#   g_ui =np.array([10/825, 5/6000, 3/60, 3/1460])\n",
    "    g_ui =g_ui if isinstance(g_ui, np.ndarray) else np.array(g_ui)\n",
    "    property[:, 10:14] = g_ui\n",
    "    \n",
    "    V_ui =  V_ui  if isinstance(V_ui, np.ndarray) else np.array(V_ui)#ui的电位\n",
    "    property[:, 14:18] = V_ui\n",
    "    \n",
    "#     tao_ui =np.array ([1, 20, 5, 25])\n",
    "    tao_ui = tao_ui if isinstance(tao_ui, np.ndarray) else np.array(tao_ui)\n",
    "\n",
    "    property[:, 18:22] = tao_ui\n",
    "\n",
    "    return property\n"
   ]
  },
  {
   "cell_type": "code",
   "execution_count": 6,
   "metadata": {},
   "outputs": [
    {
     "name": "stdout",
     "output_type": "stream",
     "text": [
      "tensor([[0.4869, 0.1052],\n",
      "        [0.5883, 0.1161],\n",
      "        [0.4949, 0.2824],\n",
      "        [0.5899, 0.8105],\n",
      "        [0.2512, 0.6307],\n",
      "        [0.5403, 0.8033],\n",
      "        [0.7781, 0.4966],\n",
      "        [0.8888, 0.5570],\n",
      "        [0.7127, 0.0339],\n",
      "        [0.1151, 0.8780]])\n"
     ]
    }
   ],
   "source": [
    "#突触导电率比例\n",
    "torch.manual_seed(2020)\n",
    "#Sets the seed for generating random numbers. Returns a 'torch.Generator' object.\n",
    "ranadj=torch.rand(10,2)#之后会产生十个泊松输入，按照ranadj的比例传输给神经元,随机的权重\n",
    "#ranadj/=350\n",
    "print(ranadj)"
   ]
  },
  {
   "cell_type": "code",
   "execution_count": 7,
   "metadata": {},
   "outputs": [],
   "source": [
    "with open('ranadj.pickle','wb') as f:\n",
    "    pickle.dump(ranadj,f)#储存为pickle.dump"
   ]
  },
  {
   "cell_type": "code",
   "execution_count": 8,
   "metadata": {},
   "outputs": [
    {
     "name": "stdout",
     "output_type": "stream",
     "text": [
      "0\n",
      "1\n",
      "2\n",
      "3\n",
      "4\n",
      "5\n",
      "6\n",
      "7\n",
      "8\n",
      "9\n"
     ]
    }
   ],
   "source": [
    "nums = 10\n",
    "T_size = 20000\n",
    "scale=T_size*nums+1\n",
    "A=np.zeros([4,scale])\n",
    "for num in range(nums):\n",
    "    #Aj是激活标志位，A的第一个轴表示ui，第二个是时间刻度\n",
    "    bos=np.random.exponential(30,T_size//2).astype(np.int16).reshape(10,-1)\n",
    "    bosA=np.zeros([10,T_size+1])\n",
    "\n",
    "    for k in range(10):\n",
    "        j=0\n",
    "        i=bos[k][j]\n",
    "        while i<T_size+1:\n",
    "            bosA[k][i]=1\n",
    "            j=j+1\n",
    "            i=i+bos[k][j]\n",
    "            #print(j)\n",
    "    print(num)\n",
    "    for p in range(T_size):\n",
    "        A[0,p+T_size*num]=sum(bosA[:7,p]*(ranadj[:7,0].numpy()))\n",
    "        A[1,p+T_size*num]=sum(bosA[:7,p]*(ranadj[:7,1].numpy()))\n",
    "        A[2,p+T_size*num]=bosA[8,p]*ranadj[8,0]+bosA[9,p]*ranadj[9,0]\n",
    "        A[3,p+T_size*num]=bosA[8,p]*ranadj[8,1]+bosA[9,p]*ranadj[9,1]"
   ]
  },
  {
   "cell_type": "code",
   "execution_count": 9,
   "metadata": {},
   "outputs": [
    {
     "data": {
      "text/plain": [
       "[<matplotlib.lines.Line2D at 0x2eca1c3d550>]"
      ]
     },
     "execution_count": 9,
     "metadata": {},
     "output_type": "execute_result"
    },
    {
     "data": {
      "image/png": "[encoded data removed]",
      "text/plain": [
       "<Figure size 432x288 with 1 Axes>"
      ]
     },
     "metadata": {
      "needs_background": "light"
     },
     "output_type": "display_data"
    }
   ],
   "source": [
    "plt.plot(bosA[1,:])"
   ]
  },
  {
   "cell_type": "code",
   "execution_count": 10,
   "metadata": {},
   "outputs": [],
   "source": [
    "with open('Abos.pickle','wb') as f:\n",
    "    pickle.dump(A,f)"
   ]
  },
  {
   "cell_type": "code",
   "execution_count": 11,
   "metadata": {},
   "outputs": [],
   "source": [
    "node_property=generate_property()\n",
    "with open('node_property.pickle','wb') as f:\n",
    "    pickle.dump(node_property,f)#储存为pickle.dump"
   ]
  },
  {
   "cell_type": "code",
   "execution_count": 12,
   "metadata": {},
   "outputs": [],
   "source": [
    "def main():\n",
    "    x_out=[]\n",
    "    y_out=np.zeros(T_size*nums)\n",
    "    b=block(node_property,A,delta_t=1)\n",
    "    for i in range(T_size*nums):\n",
    "        x,y=b.run()\n",
    "#         print(\"x:\",x)\n",
    "#         print(\"y:\",y)\n",
    "        x_out.append(x)\n",
    "        y=np.array(y)\n",
    "        y_out[i]=y\n",
    "    return x_out,y_out"
   ]
  },
  {
   "cell_type": "code",
   "execution_count": 13,
   "metadata": {},
   "outputs": [],
   "source": [
    "if __name__==\"__main__\":\n",
    "    yy,tt1=main()"
   ]
  },
  {
   "cell_type": "code",
   "execution_count": 14,
   "metadata": {},
   "outputs": [],
   "source": [
    "yy1=np.array(yy)\n",
    "tt1=np.array(tt1)"
   ]
  },
  {
   "cell_type": "code",
   "execution_count": 15,
   "metadata": {
    "scrolled": true
   },
   "outputs": [
    {
     "data": {
      "image/png": "[encoded data removed]",
      "text/plain": [
       "<Figure size 432x288 with 1 Axes>"
      ]
     },
     "metadata": {
      "needs_background": "light"
     },
     "output_type": "display_data"
    }
   ],
   "source": [
    "plt.plot(tt1,yy1)\n",
    "plt.show()"
   ]
  },
  {
   "cell_type": "code",
   "execution_count": 16,
   "metadata": {},
   "outputs": [
    {
     "data": {
      "text/plain": [
       "0.06"
      ]
     },
     "execution_count": 16,
     "metadata": {},
     "output_type": "execute_result"
    }
   ],
   "source": [
    "len(yy1[yy1==-50])/(T_size*nums/1000)#spike的频率（hz）"
   ]
  },
  {
   "cell_type": "code",
   "execution_count": 17,
   "metadata": {},
   "outputs": [
    {
     "data": {
      "text/plain": [
       "-66.908714"
      ]
     },
     "execution_count": 17,
     "metadata": {},
     "output_type": "execute_result"
    }
   ],
   "source": [
    "yy1.min()#最低电压"
   ]
  },
  {
   "cell_type": "code",
   "execution_count": 18,
   "metadata": {},
   "outputs": [],
   "source": [
    "results = [tt1, yy1]\n",
    "with open('small_cell_500ms_noise.pickle','wb') as f:\n",
    "    pickle.dump(results,f)"
   ]
  },
  {
   "cell_type": "code",
   "execution_count": null,
   "metadata": {},
   "outputs": [],
   "source": []
  }
 ],
 "metadata": {
  "kernelspec": {
   "display_name": "Python 3",
   "language": "python",
   "name": "python3"
  },
  "language_info": {
   "codemirror_mode": {
    "name": "ipython",
    "version": 3
   },
   "file_extension": ".py",
   "mimetype": "text/x-python",
   "name": "python",
   "nbconvert_exporter": "python",
   "pygments_lexer": "ipython3",
   "version": "3.7.4"
  },
  "latex_envs": {
   "LaTeX_envs_menu_present": true,
   "autoclose": true,
   "autocomplete": true,
   "bibliofile": "biblio.bib",
   "cite_by": "apalike",
   "current_citInitial": 1,
   "eqLabelWithNumbers": true,
   "eqNumInitial": 1,
   "hotkeys": {
    "equation": "Ctrl-E",
    "itemize": "Ctrl-I"
   },
   "labels_anchors": false,
   "latex_user_defs": false,
   "report_style_numbering": true,
   "user_envs_cfg": true
  },
  "varInspector": {
   "cols": {
    "lenName": 16,
    "lenType": 16,
    "lenVar": 40
   },
   "kernels_config": {
    "python": {
     "delete_cmd_postfix": "",
     "delete_cmd_prefix": "del ",
     "library": "var_list.py",
     "varRefreshCmd": "print(var_dic_list())"
    },
    "r": {
     "delete_cmd_postfix": ") ",
     "delete_cmd_prefix": "rm(",
     "library": "var_list.r",
     "varRefreshCmd": "cat(var_dic_list()) "
    }
   },
   "types_to_exclude": [
    "module",
    "function",
    "builtin_function_or_method",
    "instance",
    "_Feature"
   ],
   "window_display": false
  }
 },
 "nbformat": 4,
 "nbformat_minor": 4
}
