{
 "cells": [
  {
   "cell_type": "code",
   "execution_count": 1,
   "metadata": {},
   "outputs": [],
   "source": [
    "import torch\n",
    "import numpy as np\n",
    "import pickle"
   ]
  },
  {
   "cell_type": "code",
   "execution_count": 2,
   "metadata": {},
   "outputs": [],
   "source": [
    "def generate_property():\n",
    "    # each node contain such property:\n",
    "    #          E/I, blocked_in_stat, I_extern_Input, sub_block_idx, C, T_ref, g_Li, V_L, V_th, V_reset, g_ui, V_ui, tao_ui\n",
    "    #   size:  1,   1,               1,                1,           1, 1,     1,    1,   1,    1,       4     4,    4\n",
    "    #   dtype: b,   b,               f,                i,           f, f,     f,    f,   f,    f,       f,    f,    f\n",
    "    # b means bool(although storage as float), f means float.\n",
    "\n",
    "    property = np.zeros([1, 22], dtype=np.float32)\n",
    "    E_thresh = 1\n",
    "    property[:, 0] = 1\n",
    "\n",
    "    property[:, 1] = 0\n",
    "\n",
    "    property[:, 2] = 0\n",
    "\n",
    "    property[:, 3] = 0\n",
    "    property[:, 4] = 1\n",
    "    property[:, 5] = 5\n",
    "    property[:, 6] = 0.001\n",
    "    property[:, 7] = -75\n",
    "    property[:, 8] = -50\n",
    "    property[:, 9] = -65\n",
    "\n",
    "#     g_ui =np.array([5/275, 5/4000, 3/30, 3/730])\n",
    "    g_ui =np.array([10/825, 5/6000, 3/60, 3/1460])\n",
    "    g_ui =g_ui if isinstance(g_ui, np.ndarray) else np.array(g_ui)\n",
    "    property[:, 10:14] = g_ui\n",
    "    \n",
    "    V_ui = np.array([0, 0, -70, -100])\n",
    "    V_ui =  V_ui  if isinstance(V_ui, np.ndarray) else np.array(V_ui)\n",
    "    property[:, 14:18] = V_ui\n",
    "    \n",
    "    tao_ui =np.array ([2, 40, 10, 50])\n",
    "#     tao_ui =np.array ([1, 20, 5, 25])\n",
    "    tao_ui = tao_ui if isinstance(tao_ui, np.ndarray) else np.array(tao_ui)\n",
    "\n",
    "    property[:, 18:22] = tao_ui\n",
    "\n",
    "    return property\n"
   ]
  },
  {
   "cell_type": "code",
   "execution_count": 3,
   "metadata": {},
   "outputs": [
    {
     "name": "stdout",
     "output_type": "stream",
     "text": [
      "[[ 1.0000000e+00  0.0000000e+00  0.0000000e+00  0.0000000e+00\n",
      "   1.0000000e+00  5.0000000e+00  1.0000000e-03 -7.5000000e+01\n",
      "  -5.0000000e+01 -6.5000000e+01  1.2121212e-02  8.3333335e-04\n",
      "   5.0000001e-02  2.0547945e-03  0.0000000e+00  0.0000000e+00\n",
      "  -7.0000000e+01 -1.0000000e+02  2.0000000e+00  4.0000000e+01\n",
      "   1.0000000e+01  5.0000000e+01]]\n"
     ]
    }
   ],
   "source": [
    "property=generate_property()\n",
    "print(property)"
   ]
  },
  {
   "cell_type": "code",
   "execution_count": 4,
   "metadata": {},
   "outputs": [
    {
     "name": "stdout",
     "output_type": "stream",
     "text": [
      "(1, 22)\n"
     ]
    }
   ],
   "source": [
    "print(property.shape)"
   ]
  },
  {
   "cell_type": "code",
   "execution_count": null,
   "metadata": {},
   "outputs": [],
   "source": []
  },
  {
   "cell_type": "code",
   "execution_count": 5,
   "metadata": {},
   "outputs": [
    {
     "name": "stdout",
     "output_type": "stream",
     "text": [
      "tensor([[0.4869, 0.1052],\n",
      "        [0.5883, 0.1161],\n",
      "        [0.4949, 0.2824],\n",
      "        [0.5899, 0.8105],\n",
      "        [0.2512, 0.6307],\n",
      "        [0.5403, 0.8033],\n",
      "        [0.7781, 0.4966],\n",
      "        [0.8888, 0.5570],\n",
      "        [0.7127, 0.0339],\n",
      "        [0.1151, 0.8780]])\n"
     ]
    }
   ],
   "source": [
    "torch.manual_seed(2020)\n",
    "ranadj=torch.rand(10,2)\n",
    "print(ranadj)"
   ]
  },
  {
   "cell_type": "code",
   "execution_count": 6,
   "metadata": {},
   "outputs": [],
   "source": [
    "with open('ranadj.pickle','wb') as f:\n",
    "    pickle.dump(ranadj,f)"
   ]
  },
  {
   "cell_type": "code",
   "execution_count": null,
   "metadata": {},
   "outputs": [],
   "source": []
  },
  {
   "cell_type": "code",
   "execution_count": 7,
   "metadata": {},
   "outputs": [
    {
     "name": "stdout",
     "output_type": "stream",
     "text": [
      "tensor(0.4869)\n"
     ]
    }
   ],
   "source": [
    "print(ranadj[0,0])"
   ]
  },
  {
   "cell_type": "code",
   "execution_count": null,
   "metadata": {},
   "outputs": [],
   "source": []
  },
  {
   "cell_type": "code",
   "execution_count": null,
   "metadata": {},
   "outputs": [
    {
     "name": "stdout",
     "output_type": "stream",
     "text": [
      "(10, 24000)\n",
      "[713580 712163 706748 704451 717184 705646 708702 706556 710196 704140]\n"
     ]
    }
   ],
   "source": [
    "A=np.zeros([4,600001])\n",
    "for o in range(1):\n",
    "    bos1=np.random.exponential(30,24000)\n",
    "    bos1_1=bos1.astype(np.int32)\n",
    "    bos2=np.random.exponential(30,24000)\n",
    "    bos2_2=bos2.astype(np.int32)\n",
    "    bos3=np.random.exponential(30,24000)\n",
    "    bos3_3=bos3.astype(np.int32)\n",
    "    bos4=np.random.exponential(30,24000)\n",
    "    bos4_4=bos4.astype(np.int32)\n",
    "    bos5=np.random.exponential(30,24000)\n",
    "    bos5_5=bos5.astype(np.int32)\n",
    "    bos6=np.random.exponential(30,24000)\n",
    "    bos6_6=bos6.astype(np.int32)\n",
    "    bos7=np.random.exponential(30,24000)\n",
    "    bos7_7=bos7.astype(np.int32)\n",
    "    bos8=np.random.exponential(30,24000)\n",
    "    bos8_8=bos8.astype(np.int32)\n",
    "    bos9=np.random.exponential(30,24000)\n",
    "    bos9_9=bos9.astype(np.int32)\n",
    "    bos10=np.random.exponential(30,24000)\n",
    "    bos10_10=bos10.astype(np.int32)\n",
    "\n",
    "    bos=np.concatenate((bos1_1,bos2_2,bos3_3,bos4_4,bos5_5,bos6_6,bos7_7,bos8_8,bos9_9,bos10_10),axis=0)\n",
    "    bos=bos.reshape((10,24000))\n",
    "    bosA=np.zeros([10,600001])\n",
    "    print(bos.shape)\n",
    "    print(np.sum(bos,axis=1))\n",
    "    for k in range(10):\n",
    "        j=0\n",
    "        i=bos[k][j]\n",
    "        while i<600001:\n",
    "            bosA[k][i]=1\n",
    "            j=j+1\n",
    "            i=i+bos[k][j]\n",
    "            \n",
    "    for p in range(600001):\n",
    "        A[0,p]=bosA[0,p]*ranadj[0,0]+bosA[1,p]*ranadj[1,0]+bosA[2,p]*ranadj[2,0]+bosA[3,p]*ranadj[3,0]+bosA[4,p]*ranadj[4,0]+bosA[5,p]*ranadj[5,0]+bosA[6,p]*ranadj[6,0]+bosA[7,p]*ranadj[7,0]\n",
    "        A[1,p]=bosA[0,p]*ranadj[0,1]+bosA[1,p]*ranadj[1,1]+bosA[2,p]*ranadj[2,1]+bosA[3,p]*ranadj[3,1]+bosA[4,p]*ranadj[4,1]+bosA[5,p]*ranadj[5,1]+bosA[6,p]*ranadj[6,1]+bosA[7,p]*ranadj[7,1]\n",
    "        A[2,p]=bosA[8,p]*ranadj[8,0]+bosA[9,p]*ranadj[9,0]\n",
    "        A[3,p]=bosA[8,p]*ranadj[8,1]+bosA[9,p]*ranadj[9,1]"
   ]
  },
  {
   "cell_type": "code",
   "execution_count": null,
   "metadata": {},
   "outputs": [],
   "source": [
    "print(A.shape)"
   ]
  },
  {
   "cell_type": "code",
   "execution_count": null,
   "metadata": {},
   "outputs": [],
   "source": [
    "with open('Abos.pickle','wb') as f:\n",
    "    pickle.dump(A,f)"
   ]
  },
  {
   "cell_type": "code",
   "execution_count": null,
   "metadata": {},
   "outputs": [],
   "source": []
  },
  {
   "cell_type": "code",
   "execution_count": null,
   "metadata": {},
   "outputs": [],
   "source": [
    "t1=np.random.exponential(30,10000)\n",
    "t2=t1.astype(np.int16)\n",
    "su=np.sum(t2)\n",
    "print(su)"
   ]
  },
  {
   "cell_type": "code",
   "execution_count": null,
   "metadata": {},
   "outputs": [],
   "source": [
    "print(A[0,100:200])"
   ]
  },
  {
   "cell_type": "code",
   "execution_count": null,
   "metadata": {},
   "outputs": [],
   "source": []
  },
  {
   "cell_type": "code",
   "execution_count": null,
   "metadata": {},
   "outputs": [],
   "source": []
  },
  {
   "cell_type": "code",
   "execution_count": null,
   "metadata": {},
   "outputs": [],
   "source": [
    "# print(A[0,:])"
   ]
  },
  {
   "cell_type": "code",
   "execution_count": null,
   "metadata": {},
   "outputs": [],
   "source": [
    "import random"
   ]
  },
  {
   "cell_type": "code",
   "execution_count": null,
   "metadata": {},
   "outputs": [],
   "source": [
    "for i in range(1,11):\n",
    "    x = random.expovariate(15) # rate = 15 arrivals per second\n",
    "    print(x)"
   ]
  },
  {
   "cell_type": "code",
   "execution_count": null,
   "metadata": {},
   "outputs": [],
   "source": [
    "t1=np.random.exponential(100/3,100)\n",
    "# print(t1)\n"
   ]
  },
  {
   "cell_type": "code",
   "execution_count": null,
   "metadata": {},
   "outputs": [],
   "source": [
    "# print(t1)"
   ]
  },
  {
   "cell_type": "code",
   "execution_count": null,
   "metadata": {},
   "outputs": [],
   "source": [
    "bos10= np.random.poisson(lam=0.03,size=100)\n",
    "print(bos10)"
   ]
  },
  {
   "cell_type": "code",
   "execution_count": null,
   "metadata": {},
   "outputs": [],
   "source": [
    "plt.hist(x=t1,bins='auto')"
   ]
  },
  {
   "cell_type": "code",
   "execution_count": null,
   "metadata": {},
   "outputs": [],
   "source": [
    "class block:\n",
    "    def __init__(self, node_property,bosong,delta_t=1):\n",
    "        # A block is a set of spliking neurals with inner full connections, we consider 4 connections:\n",
    "        # AMPA, NMDA, GABAa and GABAb\n",
    "        # shape note:\n",
    "        #\n",
    "        # N: numbers of neural cells\n",
    "        # K: connections kind, = 4 (AMPA, NMDA, GABAa and GABAb)\n",
    "     \n",
    "        N = 1\n",
    "        K = 4\n",
    "        self.bosong=bosong\n",
    "        \n",
    "        self.delta_t = delta_t\n",
    "\n",
    "        self.I_extern_Input = torch.tensor(node_property[:, 2]) # extern_input index , shape[K]\n",
    "        self.V_ui =torch.tensor(node_property[:, 14:18].reshape([4,1]))  # AMPA, NMDA, GABAa and GABAb potential, shape [K, N]\n",
    "        self.tau_ui = torch.tensor(node_property[:, 18:22].reshape([4,1]))# shape [K, N]\n",
    "        self.g_ui = torch.tensor(node_property[:, 10:14].reshape([4,1])) # shape [K, N]\n",
    "        self.g_Li = torch.tensor(node_property[:, 6])  # shape [N]\n",
    "        self.V_L = torch.tensor(node_property[:, 7])  # shape [N]\n",
    "        self.C = torch.tensor(node_property[:, 4])   # shape [N]\n",
    "        self.sub_idx = torch.tensor(node_property[:, 3]) # shape [N]\n",
    "        self.V_th = torch.tensor(node_property[:, 8])  # shape [N]\n",
    "        self.V_reset = torch.tensor(node_property[:, 9]) # shape [N]\n",
    "        self.T_ref = torch.tensor(node_property[:, 5]) # shape [N]\n",
    "\n",
    "        self.t_ik_last = torch.zeros([N]) # shape [N]\n",
    "        self.V_i = torch.ones([N]) * (self.V_th + self.V_reset)/2  # membrane potential, shape: [N]\n",
    "        self.J_ui = torch.zeros([K, N])  # shape [K, N]\n",
    "        self.t = torch.tensor(0.)  # scalar\n",
    "\n",
    "        self.update_I_syn()\n",
    "\n",
    "\n",
    "    def update_J_ui(self, delta_t):\n",
    "        # active shape: [N], dtype bool\n",
    "        # t is a scalar\n",
    "        g=np.array(self.t)\n",
    "        self.J_ui = self.J_ui * torch.exp(-delta_t / self.tau_ui) #shape:4*1\n",
    "        bosong1= self.bosong[:,int(g)]####产生01的泊松分布\n",
    "        J_ui_activate_part = torch.tensor(bosong1).view(4,1) # !!! this part can be sparse.#####输入一个泊松分布\n",
    "        self.J_ui += J_ui_activate_part\n",
    "        pass\n",
    "\n",
    "\n",
    "    def update_I_syn(self):\n",
    "        self.I_ui = self.g_ui * (self.V_ui - self.V_i) * self.J_ui\n",
    "        # [K, N]            [K, N] - [K, 1]\n",
    "        self.I_syn = self.I_ui.sum(dim=0)\n",
    "        pass\n",
    "\n",
    "    def update_Vi(self, delta_t):\n",
    "        main_part = -self.g_Li * (self.V_i - self.V_L)\n",
    "        C_diff_Vi = main_part + self.I_syn + self.I_extern_Input\n",
    "        delta_Vi = delta_t / self.C * C_diff_Vi\n",
    "\n",
    "        Vi_normal = self.V_i + delta_Vi\n",
    "\n",
    "        is_not_saturated = (self.t >= self.t_ik_last + self.T_ref)\n",
    "        V_i = torch.where(is_not_saturated, Vi_normal, self.V_reset)\n",
    "        #print(is_not_saturated.sum())\n",
    "        active = (V_i >= self.V_th)\n",
    "        self.V_i = torch.min(V_i, self.V_th)\n",
    "        return active\n",
    "\n",
    "    def update_t_ik_last(self, active):\n",
    "        self.t_ik_last = torch.where(active, self.t, self.t_ik_last)\n",
    "\n",
    "    def run(self, noise_rate=0.01, isolated=False):\n",
    "        self.t += self.delta_t\n",
    "        self.active = self.update_Vi(self.delta_t)###处于激活/不激活\n",
    "        \n",
    "        self.update_J_ui(self.delta_t)\n",
    "        self.update_I_syn()\n",
    "        self.update_t_ik_last(self.active)\n",
    "\n",
    "#         mean_Vi = []\n",
    "#         sum_activate = []\n",
    "#         for i in range(self.sub_idx.max().int() + 1):\n",
    "#             mean_Vi.append(self.V_i[self.sub_idx == i].mean())\n",
    "#             sum_activate.append(self.active[self.sub_idx == i].float().sum())\n",
    "        return self.V_i,self.t\n",
    "\n",
    "#         return torch.stack(sum_activate), torch.stack(mean_Vi)\n",
    "\n"
   ]
  },
  {
   "cell_type": "code",
   "execution_count": null,
   "metadata": {},
   "outputs": [],
   "source": [
    "def main():\n",
    "    x_out=[]\n",
    "    y_out=np.zeros(600000)\n",
    "    b=block(property,A)\n",
    "    for i in range(600000):\n",
    "        x,y=b.run()\n",
    "#         print(\"x:\",x)\n",
    "#         print(\"y:\",y)\n",
    "        x_out.append(x)\n",
    "        y=np.array(y)\n",
    "        y_out[i]=y\n",
    "    return x_out,y_out"
   ]
  },
  {
   "cell_type": "code",
   "execution_count": null,
   "metadata": {},
   "outputs": [],
   "source": [
    "if __name__==\"__main__\":\n",
    "    yy,tt1=main()"
   ]
  },
  {
   "cell_type": "code",
   "execution_count": null,
   "metadata": {},
   "outputs": [],
   "source": [
    "yy1=np.array(yy)\n",
    "tt1=np.array(tt1)\n",
    "print(yy1.shape)"
   ]
  },
  {
   "cell_type": "code",
   "execution_count": null,
   "metadata": {},
   "outputs": [],
   "source": [
    "import matplotlib.pyplot as plt"
   ]
  },
  {
   "cell_type": "code",
   "execution_count": null,
   "metadata": {},
   "outputs": [],
   "source": [
    "tt1=np.linspace(1,600000,600000)"
   ]
  },
  {
   "cell_type": "code",
   "execution_count": 26,
   "metadata": {},
   "outputs": [
    {
     "data": {
      "image/png": "[encoded data removed]",
      "text/plain": [
       "<Figure size 1152x720 with 1 Axes>"
      ]
     },
     "metadata": {
      "needs_background": "light"
     },
     "output_type": "display_data"
    }
   ],
   "source": [
    "pop=35\n",
    "plt.subplots(figsize=(16, 10))\n",
    "plt.plot(tt1[pop*1000:pop*1000+1000],yy1[pop*1000:pop*1000+1000])  #画图\n",
    "plt.show()#loss函数图"
   ]
  },
  {
   "cell_type": "code",
   "execution_count": 27,
   "metadata": {},
   "outputs": [],
   "source": [
    "results = [tt1, yy1]\n",
    "with open('small_cell.pickle','wb') as f:\n",
    "    pickle.dump(results,f)"
   ]
  },
  {
   "cell_type": "code",
   "execution_count": 28,
   "metadata": {},
   "outputs": [],
   "source": [
    "with open('small_cell.pickle','rb+') as f:\n",
    "    a2019,b2019=pickle.load(f)"
   ]
  },
  {
   "cell_type": "code",
   "execution_count": 29,
   "metadata": {},
   "outputs": [
    {
     "name": "stdout",
     "output_type": "stream",
     "text": [
      "(600000,) [ 2.  3.  4.  5.  6.  7.  8.  9. 10. 11. 12. 13. 14. 15. 16. 17. 18. 19.\n",
      " 20.]\n"
     ]
    }
   ],
   "source": [
    "print(a2019.shape,a2019[1:20])"
   ]
  },
  {
   "cell_type": "code",
   "execution_count": 32,
   "metadata": {},
   "outputs": [
    {
     "name": "stdout",
     "output_type": "stream",
     "text": [
      "(200000,) [-65.       -65.       -65.       -65.       -64.60482  -64.36535\n",
      " -64.21954  -64.130356 -64.075516 -64.04159  -64.020454 -63.623764\n",
      " -63.382717 -63.23531  -63.388138 -63.5469   -63.80425  -64.04267\n",
      " -64.26154  -64.668564 -65.01997  -65.32521  -65.59196  -65.826454\n",
      " -66.03381  -66.218216 -66.38311  -66.53134  -66.665276 -66.30502\n",
      " -66.26808  -66.32576  -65.85921  -65.277855 -65.03803  -64.98752\n",
      " -65.039696 -65.144966 -65.36584  -65.587265 -65.80173  -66.00567\n",
      " -66.19777  -66.37792  -66.54665  -66.04955  -65.3298   -64.957924\n",
      " -64.78829  -64.82965  -64.93252  -65.067726 -65.218285 -65.37438\n",
      " -65.53047  -65.68354  -65.83205  -65.97532  -66.11316  -66.24564\n",
      " -66.372986 -66.015724 -65.847046 -65.78975  -65.79798  -65.84436\n",
      " -65.50204  -65.420494 -65.437355 -65.51064  -65.61541  -64.99949\n",
      " -64.68392  -64.54505  -64.5102   -64.031334 -63.77829  -63.65898\n",
      " -63.120697 -62.817463 -62.65394  -61.95685  -61.5534   -61.32425\n",
      " -61.199207 -61.136524 -61.111202 -61.10822  -61.118538 -61.13671\n",
      " -61.159473 -61.184864 -61.21171  -61.239323 -61.267292 -61.295387\n",
      " -61.323475 -61.351486 -61.69027  -61.50391  -61.47417  -61.083515\n",
      " -60.92285  -60.890324 -60.927113 -60.522343 -60.31858  -59.853508\n",
      " -59.736095 -59.73461  -59.79585  -59.300163 -59.056465 -58.957516\n",
      " -58.94079  -58.96958  -58.52366  -58.31996  -58.254593 -58.267017\n",
      " -58.742783 -59.176933 -59.5676   -59.916367 -60.226418 -60.629566\n",
      " -60.987797 -61.307114 -61.592743 -61.849186 -62.080307 -62.28941\n",
      " -62.256927 -62.288525 -61.965954 -61.81725  -61.768703 -61.776997\n",
      " -61.932884 -62.096077 -61.871746 -61.798855 -61.427326 -60.65488\n",
      " -60.24685  -60.050938 -59.978634 -59.977825 -60.017654 -60.07982\n",
      " -60.153507 -60.232384 -59.878006 -59.686207 -59.590824 -59.12242\n",
      " -58.849632 -58.34094  -58.04515  -57.876167 -57.132675 -56.69324\n",
      " -56.434177 -56.282986 -56.19664  -55.948765 -55.795162 -55.295353\n",
      " -55.158607 -55.12965  -55.162067 -55.228443 -55.31259  -55.40502\n",
      " -55.500244 -55.160793 -54.98327  -54.90138  -54.875828 -54.486538\n",
      " -54.276497 -54.17277  -54.699337 -55.186283 -55.432243 -55.707764\n",
      " -55.985954 -56.252697 -56.501198 -56.728806 -56.935165 -57.12114\n",
      " -57.288177 -57.437954 -57.572186 -57.692516 -57.23244  -56.010315\n",
      " -55.31742  -54.930157 -54.720978 -54.287888 -53.43815  -52.94745\n",
      " -52.666653 -53.130276 -53.584877 -53.624252 -53.79205  -54.01855\n",
      " -54.264816 -54.509586 -54.74181  -54.9563   -55.690407 -56.318954\n",
      " -57.016186 -56.644012 -56.61337  -56.75985  -56.99168  -57.257595\n",
      " -57.529392 -57.79213  -58.03847  -58.265396 -58.472282 -58.084072\n",
      " -57.909916 -57.85707  -57.87152  -57.921707 -57.989254 -58.063587\n",
      " -58.13876  -58.211555 -58.07253  -58.00212  -57.971302 -57.96286\n",
      " -57.61947  -57.421806 -57.310417 -57.25001  -57.21956  -57.20651\n",
      " -57.203384 -57.20576  -57.211037 -57.217716 -56.868282 -56.3174\n",
      " -55.579998 -55.13955  -54.531578 -54.164886 -53.941982 -53.805412\n",
      " -53.33205  -53.046    -52.872093 -52.44911  -52.19353  -52.03837\n",
      " -51.943836 -51.88611  -51.850864 -51.31894  -50.417625 -50.\n",
      " -65.       -65.       -65.       -65.       -64.80411  -64.688194\n",
      " -64.61642  -64.56799  -64.53096  -64.49853  -64.66548  -64.80309\n",
      " -64.9153   -64.3665   -64.06973  -63.914967 -63.838863 -63.804813\n",
      " -63.79173  -63.787594 -63.785717 -63.782513 -63.776203 -63.76605\n",
      " -63.751884 -63.733868 -63.71231  -62.67614  -62.08533  -61.75271 ]\n"
     ]
    }
   ],
   "source": [
    "print(b2019.shape,b2019[0:300])"
   ]
  },
  {
   "cell_type": "code",
   "execution_count": null,
   "metadata": {},
   "outputs": [],
   "source": []
  },
  {
   "cell_type": "code",
   "execution_count": null,
   "metadata": {},
   "outputs": [],
   "source": []
  },
  {
   "cell_type": "code",
   "execution_count": null,
   "metadata": {},
   "outputs": [],
   "source": []
  },
  {
   "cell_type": "code",
   "execution_count": null,
   "metadata": {},
   "outputs": [],
   "source": []
  },
  {
   "cell_type": "code",
   "execution_count": 7,
   "metadata": {},
   "outputs": [
    {
     "name": "stdout",
     "output_type": "stream",
     "text": [
      "tensor([[[1., 1.]],\n",
      "\n",
      "        [[1., 1.]]])\n"
     ]
    }
   ],
   "source": [
    "a = torch.ones([1,2])\n",
    "b = torch.ones([1,2])\n",
    "c=torch.stack([a,b])\n",
    "print(c)"
   ]
  },
  {
   "cell_type": "code",
   "execution_count": 8,
   "metadata": {},
   "outputs": [
    {
     "name": "stdout",
     "output_type": "stream",
     "text": [
      "torch.Size([1, 2]) torch.Size([1, 2]) torch.Size([2, 1, 2])\n"
     ]
    }
   ],
   "source": [
    "print(a.shape,b.shape,c.shape)"
   ]
  },
  {
   "cell_type": "code",
   "execution_count": 199,
   "metadata": {},
   "outputs": [
    {
     "name": "stdout",
     "output_type": "stream",
     "text": [
      "[0 1 3 0 0 2 1 0 1 0 0 2 1 1 0 0 2 0 2 0 2 1 0 0 1 1 2 2 2 1 0 1 0 2 1 0 0\n",
      " 1 2 1 0 1 1 1 1 3 3 1 1 1]\n"
     ]
    }
   ],
   "source": [
    "x1 = np.random.poisson(lam=1, size=50)\n",
    "print(x1)"
   ]
  },
  {
   "cell_type": "code",
   "execution_count": 162,
   "metadata": {},
   "outputs": [],
   "source": [
    "n=sum(x1)"
   ]
  },
  {
   "cell_type": "code",
   "execution_count": 163,
   "metadata": {},
   "outputs": [
    {
     "name": "stdout",
     "output_type": "stream",
     "text": [
      "1531\n"
     ]
    }
   ],
   "source": [
    "print(n)"
   ]
  },
  {
   "cell_type": "code",
   "execution_count": 141,
   "metadata": {},
   "outputs": [],
   "source": [
    "lam = 0.5\n",
    "T =20\n",
    "n = np.random.poisson(lam * T)\n",
    "# 生成n个[0, T]均匀分布随机数并排序\n",
    "t = np.hstack([[0], np.sort(np.random.random(n) * T)])"
   ]
  },
  {
   "cell_type": "code",
   "execution_count": 142,
   "metadata": {},
   "outputs": [
    {
     "name": "stdout",
     "output_type": "stream",
     "text": [
      "[ 0.          1.02412787  1.10907547  4.18940117  6.89909916  8.04904796\n",
      "  8.44337467  8.66852479 12.01137832 12.6460347  16.74523724]\n"
     ]
    }
   ],
   "source": [
    "print(t)"
   ]
  },
  {
   "cell_type": "code",
   "execution_count": 138,
   "metadata": {},
   "outputs": [
    {
     "name": "stdout",
     "output_type": "stream",
     "text": [
      "0\n"
     ]
    }
   ],
   "source": [
    "print(n)"
   ]
  },
  {
   "cell_type": "code",
   "execution_count": null,
   "metadata": {},
   "outputs": [],
   "source": []
  }
 ],
 "metadata": {
  "kernelspec": {
   "display_name": "Python 3",
   "language": "python",
   "name": "python3"
  },
  "language_info": {
   "codemirror_mode": {
    "name": "ipython",
    "version": 3
   },
   "file_extension": ".py",
   "mimetype": "text/x-python",
   "name": "python",
   "nbconvert_exporter": "python",
   "pygments_lexer": "ipython3",
   "version": "3.7.9"
  }
 },
 "nbformat": 4,
 "nbformat_minor": 4
}
