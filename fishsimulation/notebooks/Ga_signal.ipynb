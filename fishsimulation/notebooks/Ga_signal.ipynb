{
 "cells": [
  {
   "cell_type": "code",
   "execution_count": 1,
   "metadata": {},
   "outputs": [],
   "source": [
    "import torch\n",
    "import numpy as np\n",
    "import pickle"
   ]
  },
  {
   "cell_type": "code",
   "execution_count": 2,
   "metadata": {},
   "outputs": [],
   "source": [
    "import matplotlib.pyplot as plt"
   ]
  },
  {
   "cell_type": "code",
   "execution_count": 3,
   "metadata": {},
   "outputs": [],
   "source": [
    "with open('small_cell.pickle','rb+') as f:\n",
    "    tt,uu=pickle.load(f)"
   ]
  },
  {
   "cell_type": "code",
   "execution_count": 4,
   "metadata": {},
   "outputs": [
    {
     "name": "stdout",
     "output_type": "stream",
     "text": [
      "10000\n"
     ]
    }
   ],
   "source": [
    "m=len(tt)\n",
    "print(m)"
   ]
  },
  {
   "cell_type": "code",
   "execution_count": 5,
   "metadata": {},
   "outputs": [],
   "source": [
    "np.random.seed(2020)\n",
    "mu=0.1\n",
    "sigma=0.05\n",
    "epslo= np.random.normal(mu, sigma, m)"
   ]
  },
  {
   "cell_type": "code",
   "execution_count": 6,
   "metadata": {},
   "outputs": [
    {
     "data": {
      "text/plain": [
       "(array([  2.,   5.,   4.,  10.,   6.,  16.,  16.,  23.,  42.,  34.,  71.,\n",
       "         78., 101., 130., 136., 185., 211., 250., 295., 319., 354., 361.,\n",
       "        481., 456., 472., 460., 480., 487., 514., 496., 446., 416., 394.,\n",
       "        351., 313., 282., 213., 215., 196., 147., 118., 106.,  76.,  75.,\n",
       "         47.,  43.,  19.,  16.,  10.,  11.,   3.,   4.,   1.,   1.,   1.,\n",
       "          1.]),\n",
       " array([-0.06629047, -0.06010139, -0.05391232, -0.04772325, -0.04153417,\n",
       "        -0.0353451 , -0.02915603, -0.02296695, -0.01677788, -0.01058881,\n",
       "        -0.00439973,  0.00178934,  0.00797842,  0.01416749,  0.02035656,\n",
       "         0.02654564,  0.03273471,  0.03892378,  0.04511286,  0.05130193,\n",
       "         0.057491  ,  0.06368008,  0.06986915,  0.07605823,  0.0822473 ,\n",
       "         0.08843637,  0.09462545,  0.10081452,  0.10700359,  0.11319267,\n",
       "         0.11938174,  0.12557082,  0.13175989,  0.13794896,  0.14413804,\n",
       "         0.15032711,  0.15651618,  0.16270526,  0.16889433,  0.1750834 ,\n",
       "         0.18127248,  0.18746155,  0.19365063,  0.1998397 ,  0.20602877,\n",
       "         0.21221785,  0.21840692,  0.22459599,  0.23078507,  0.23697414,\n",
       "         0.24316321,  0.24935229,  0.25554136,  0.26173044,  0.26791951,\n",
       "         0.27410858,  0.28029766]),\n",
       " <BarContainer object of 56 artists>)"
      ]
     },
     "execution_count": 6,
     "metadata": {},
     "output_type": "execute_result"
    },
    {
     "data": {
      "image/png": "[encoded data removed]",
      "text/plain": [
       "<Figure size 432x288 with 1 Axes>"
      ]
     },
     "metadata": {
      "needs_background": "light"
     },
     "output_type": "display_data"
    }
   ],
   "source": [
    "plt.hist(x=epslo,bins='auto')"
   ]
  },
  {
   "cell_type": "code",
   "execution_count": 7,
   "metadata": {},
   "outputs": [],
   "source": [
    "s=torch.zeros(m)\n",
    "uut=torch.tensor(uu)\n",
    "for i in range(m):\n",
    "    if uut[i]==-50:\n",
    "        s[i]=1"
   ]
  },
  {
   "cell_type": "code",
   "execution_count": 8,
   "metadata": {},
   "outputs": [
    {
     "name": "stdout",
     "output_type": "stream",
     "text": [
      "tensor([0., 0., 0., 0., 0., 0., 0., 0., 0., 0., 0., 0., 0., 0., 0., 0., 0., 0.,\n",
      "        0., 0., 0., 0., 0., 0., 0., 0., 0., 0., 0., 0., 0., 0., 0., 0., 0., 0.,\n",
      "        0., 0., 0., 0., 0., 0., 0., 0., 1., 0., 0., 0., 0., 0., 0., 0., 0., 0.,\n",
      "        0., 0., 0., 0., 0., 0., 0., 0., 0., 0., 0., 0., 0., 0., 0., 0., 0., 0.,\n",
      "        0., 0., 0., 0., 0., 0., 0., 0., 0., 0., 0., 0., 0., 0., 0., 0., 0., 0.,\n",
      "        0., 0., 0., 0., 0., 0., 0., 0., 0., 0.])\n"
     ]
    }
   ],
   "source": [
    "print(s[0:100])"
   ]
  },
  {
   "cell_type": "code",
   "execution_count": 9,
   "metadata": {},
   "outputs": [],
   "source": [
    "yj=0.1\n",
    "a=0.1\n",
    "b=0.1"
   ]
  },
  {
   "cell_type": "code",
   "execution_count": 10,
   "metadata": {},
   "outputs": [],
   "source": [
    "Ct=torch.zeros(m)\n",
    "Yt=torch.zeros(m)\n",
    "for i in range(m-1):\n",
    "    Ct[i+1]=yj*Ct[i]+s[i+1]\n",
    "for j in range(m):\n",
    "    Yt[j]=a*(Ct[j]+b)+epslo[j]"
   ]
  },
  {
   "cell_type": "code",
   "execution_count": 11,
   "metadata": {},
   "outputs": [
    {
     "name": "stdout",
     "output_type": "stream",
     "text": [
      "tensor(0.0216)\n"
     ]
    }
   ],
   "source": [
    "print(Yt[0])"
   ]
  },
  {
   "cell_type": "code",
   "execution_count": 12,
   "metadata": {
    "scrolled": true
   },
   "outputs": [
    {
     "data": {
      "image/png": "[encoded data removed]",
      "text/plain": [
       "<Figure size 432x288 with 1 Axes>"
      ]
     },
     "metadata": {
      "needs_background": "light"
     },
     "output_type": "display_data"
    }
   ],
   "source": [
    "plt.plot(tt,Yt,'ro')\n",
    "plt.show()"
   ]
  },
  {
   "cell_type": "code",
   "execution_count": 19,
   "metadata": {},
   "outputs": [
    {
     "data": {
      "image/png": "[encoded data removed]",
      "text/plain": [
       "<Figure size 432x288 with 1 Axes>"
      ]
     },
     "metadata": {
      "needs_background": "light"
     },
     "output_type": "display_data"
    }
   ],
   "source": [
    "plt.plot(tt[0:200],Yt[0:200],'ro')\n",
    "plt.show()"
   ]
  },
  {
   "cell_type": "code",
   "execution_count": null,
   "metadata": {},
   "outputs": [],
   "source": []
  },
  {
   "cell_type": "code",
   "execution_count": 13,
   "metadata": {},
   "outputs": [],
   "source": [
    "with open('Ga_xinhao.pickle','wb') as f:\n",
    "    pickle.dump(Yt,f)"
   ]
  },
  {
   "cell_type": "code",
   "execution_count": 14,
   "metadata": {},
   "outputs": [
    {
     "name": "stdout",
     "output_type": "stream",
     "text": [
      "torch.Size([10000])\n"
     ]
    }
   ],
   "source": [
    "print(Yt.shape)"
   ]
  },
  {
   "cell_type": "code",
   "execution_count": null,
   "metadata": {},
   "outputs": [],
   "source": []
  },
  {
   "cell_type": "code",
   "execution_count": 15,
   "metadata": {},
   "outputs": [],
   "source": [
    "truey1=np.array([0.09145081,0.13822782,-0.035101831,-0.011700988,0.116892099,0.042897463,0.021496654,0.148152828,\n",
    "                 0.12480545,0.013786435,0.076158881,-0.007590652,-0.007563889,0.124957085,0.054841518,0.202959776,\n",
    "                 0.179608822,0.090002656,0.111467838,0.000418663])\n",
    "truey2=np.array([0.020373464,0.12555933,0.016854942,0.078209877,0.116773009,0.067677975,0.051892996,\n",
    "                 0.029096127,-0.03402245,0.013305545,0.013299406,0.127244353,0.121978045,0.141255021,\n",
    "                 0.174556255,-0.03406322,0.044817328,0.123697162,0.113172412,0.120177746])\n",
    "truey3=np.array([0.140054584,0.076751471,0.080521345,0.069384933,0.071291566,0.26886642,-0.047891319,\n",
    "                 0.047193646,0.153468251,0.069643974,0.228116155,0.116329074,0.094005704,0.215215802,\n",
    "                 0.118328333,0.166843772,0.00655973,0.096090913,0.166984677,0.051430821])"
   ]
  },
  {
   "cell_type": "code",
   "execution_count": 16,
   "metadata": {},
   "outputs": [],
   "source": [
    "truex=np.array([500,1000,1500,2000,2500,3000,3500,4000,4500,5000,5500,6000,6500,7000,7500,8000,8500,9000,9500,10000])"
   ]
  },
  {
   "cell_type": "code",
   "execution_count": 17,
   "metadata": {},
   "outputs": [
    {
     "data": {
      "image/png": "[encoded data removed]",
      "text/plain": [
       "<Figure size 432x288 with 3 Axes>"
      ]
     },
     "metadata": {
      "needs_background": "light"
     },
     "output_type": "display_data"
    }
   ],
   "source": [
    "plt.subplot(311)\n",
    "plt.scatter(truex, truey1, alpha=0.6)\n",
    "plt.subplot(312)\n",
    "plt.scatter(truex, truey2, alpha=0.6)\n",
    "plt.subplot(313)\n",
    "plt.scatter(truex, truey3, alpha=0.6)\n",
    "plt.show()"
   ]
  },
  {
   "cell_type": "code",
   "execution_count": 18,
   "metadata": {},
   "outputs": [
    {
     "data": {
      "image/png": "[encoded data removed]",
      "text/plain": [
       "<Figure size 432x288 with 1 Axes>"
      ]
     },
     "metadata": {
      "needs_background": "light"
     },
     "output_type": "display_data"
    }
   ],
   "source": [
    "plt.plot(truex,Yt[truex-1],'ro')\n",
    "plt.show()"
   ]
  },
  {
   "cell_type": "code",
   "execution_count": 22,
   "metadata": {},
   "outputs": [],
   "source": [
    "np.random.seed(2020)\n",
    "mu=0\n",
    "sigma=0.000001\n",
    "epslo= np.random.normal(mu, sigma, 2000)"
   ]
  },
  {
   "cell_type": "code",
   "execution_count": 23,
   "metadata": {},
   "outputs": [
    {
     "data": {
      "text/plain": [
       "(array([  1.,   2.,   4.,   4.,  16.,  11.,  23.,  29.,  47.,  61., 101.,\n",
       "        106., 113., 143., 174., 161., 167., 185., 139., 116., 111.,  78.,\n",
       "         71.,  45.,  33.,  27.,  11.,  12.,   6.,   1.,   2.]),\n",
       " array([-3.31702192e-06, -3.11002887e-06, -2.90303583e-06, -2.69604279e-06,\n",
       "        -2.48904975e-06, -2.28205670e-06, -2.07506366e-06, -1.86807062e-06,\n",
       "        -1.66107757e-06, -1.45408453e-06, -1.24709149e-06, -1.04009844e-06,\n",
       "        -8.33105402e-07, -6.26112359e-07, -4.19119316e-07, -2.12126273e-07,\n",
       "        -5.13322974e-09,  2.01859813e-07,  4.08852856e-07,  6.15845899e-07,\n",
       "         8.22838942e-07,  1.02983199e-06,  1.23682503e-06,  1.44381807e-06,\n",
       "         1.65081111e-06,  1.85780416e-06,  2.06479720e-06,  2.27179024e-06,\n",
       "         2.47878329e-06,  2.68577633e-06,  2.89276937e-06,  3.09976242e-06]),\n",
       " <BarContainer object of 31 artists>)"
      ]
     },
     "execution_count": 23,
     "metadata": {},
     "output_type": "execute_result"
    },
    {
     "data": {
      "image/png": "[encoded data removed]",
      "text/plain": [
       "<Figure size 432x288 with 1 Axes>"
      ]
     },
     "metadata": {
      "needs_background": "light"
     },
     "output_type": "display_data"
    }
   ],
   "source": [
    "plt.hist(x=epslo,bins='auto')"
   ]
  },
  {
   "cell_type": "code",
   "execution_count": null,
   "metadata": {},
   "outputs": [],
   "source": []
  }
 ],
 "metadata": {
  "kernelspec": {
   "display_name": "Python 3",
   "language": "python",
   "name": "python3"
  },
  "language_info": {
   "codemirror_mode": {
    "name": "ipython",
    "version": 3
   },
   "file_extension": ".py",
   "mimetype": "text/x-python",
   "name": "python",
   "nbconvert_exporter": "python",
   "pygments_lexer": "ipython3",
   "version": "3.7.9"
  },
  "latex_envs": {
   "LaTeX_envs_menu_present": true,
   "autoclose": true,
   "autocomplete": true,
   "bibliofile": "biblio.bib",
   "cite_by": "apalike",
   "current_citInitial": 1,
   "eqLabelWithNumbers": true,
   "eqNumInitial": 1,
   "hotkeys": {
    "equation": "Ctrl-E",
    "itemize": "Ctrl-I"
   },
   "labels_anchors": false,
   "latex_user_defs": false,
   "report_style_numbering": true,
   "user_envs_cfg": true
  },
  "varInspector": {
   "cols": {
    "lenName": 16,
    "lenType": 16,
    "lenVar": 40
   },
   "kernels_config": {
    "python": {
     "delete_cmd_postfix": "",
     "delete_cmd_prefix": "del ",
     "library": "var_list.py",
     "varRefreshCmd": "print(var_dic_list())"
    },
    "r": {
     "delete_cmd_postfix": ") ",
     "delete_cmd_prefix": "rm(",
     "library": "var_list.r",
     "varRefreshCmd": "cat(var_dic_list()) "
    }
   },
   "types_to_exclude": [
    "module",
    "function",
    "builtin_function_or_method",
    "instance",
    "_Feature"
   ],
   "window_display": false
  }
 },
 "nbformat": 4,
 "nbformat_minor": 4
}
