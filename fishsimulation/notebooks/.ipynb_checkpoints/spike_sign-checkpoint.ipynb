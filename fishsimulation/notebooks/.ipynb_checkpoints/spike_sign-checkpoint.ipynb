{
 "cells": [
  {
   "cell_type": "code",
   "execution_count": 1,
   "metadata": {
    "ExecuteTime": {
     "end_time": "2020-11-09T15:26:14.854478Z",
     "start_time": "2020-11-09T15:26:14.509376Z"
    }
   },
   "outputs": [],
   "source": [
    "import torch\n",
    "import numpy as np\n",
    "import pickle"
   ]
  },
  {
   "cell_type": "code",
   "execution_count": 2,
   "metadata": {
    "ExecuteTime": {
     "end_time": "2020-11-09T15:26:14.888419Z",
     "start_time": "2020-11-09T15:26:14.882379Z"
    }
   },
   "outputs": [],
   "source": [
    "def generate_property():\n",
    "    # each node contain such property:\n",
    "    #          E/I, blocked_in_stat, I_extern_Input, sub_block_idx, C, T_ref, g_Li, V_L, V_th, V_reset, g_ui, V_ui, tao_ui\n",
    "    #   size:  1,   1,               1,                1,           1, 1,     1,    1,   1,    1,       4     4,    4\n",
    "    #   dtype: b,   b,               f,                i,           f, f,     f,    f,   f,    f,       f,    f,    f\n",
    "    # b means bool(although storage as float), f means float.\n",
    "\n",
    "    property = np.zeros([1, 22], dtype=np.float32)\n",
    "    \n",
    "    E_thresh = 1\n",
    "    \n",
    "    property[:, 0] = 1\n",
    "\n",
    "    property[:, 1] = 0\n",
    "\n",
    "    property[:, 2] = 0\n",
    "\n",
    "    property[:, 3] = 0\n",
    "    property[:, 4] = 1\n",
    "    property[:, 5] = 5\n",
    "    property[:, 6] = 0.001\n",
    "    property[:, 7] = -75\n",
    "    property[:, 8] = -50\n",
    "    property[:, 9] = -65\n",
    "\n",
    "    g_ui =np.array([5/275, 5/4000, 3/30, 3/730])\n",
    "    g_ui =g_ui if isinstance(g_ui, np.ndarray) else np.array(g_ui)\n",
    "    property[:, 10:14] = g_ui\n",
    "    \n",
    "    V_ui = np.array([0, 0, -70, -100])\n",
    "    V_ui =  V_ui  if isinstance(V_ui, np.ndarray) else np.array(V_ui)\n",
    "    property[:, 14:18] = V_ui\n",
    "    \n",
    "    tao_ui =np.array ([2, 40, 10, 50])\n",
    "    tao_ui = tao_ui if isinstance(tao_ui, np.ndarray) else np.array(tao_ui)\n",
    "\n",
    "    property[:, 18:22] = tao_ui\n",
    "    \n",
    "\n",
    "    return property"
   ]
  },
  {
   "cell_type": "code",
   "execution_count": 3,
   "metadata": {
    "ExecuteTime": {
     "end_time": "2020-11-09T15:35:25.166129Z",
     "start_time": "2020-11-09T15:35:25.153155Z"
    }
   },
   "outputs": [],
   "source": [
    "class block:\n",
    "    def __init__(self, node_property, delta_t=1):\n",
    "        # A block is a set of spliking neurals with inner full connections, we consider 4 connections:\n",
    "        # AMPA, NMDA, GABAa and GABAb\n",
    "        # shape note:\n",
    "        #\n",
    "        # N: numbers of neural cells\n",
    "        # K: connections kind, = 4 (AMPA, NMDA, GABAa and GABAb)\n",
    "        \n",
    "        import torch\n",
    "        \n",
    "        N = 1\n",
    "        K = 4\n",
    "        \n",
    "        self.delta_t = delta_t\n",
    "        \n",
    "        self.I_extern_Input = torch.tensor(node_property[:, 2]) # extern_input index , shape[K]\n",
    "        self.V_ui =torch.tensor(node_property[:, 14:18].reshape([4,1]))  # AMPA, NMDA, GABAa and GABAb potential, shape [K, N]\n",
    "        self.tau_ui = torch.tensor(node_property[:, 18:22].reshape([4,1]))# shape [K, N]\n",
    "        self.g_ui = torch.tensor(node_property[:, 10:14].reshape([4,1])) # shape [K, N]\n",
    "        self.g_Li = torch.tensor(node_property[:, 6])  # shape [N]\n",
    "        self.V_L = torch.tensor(node_property[:, 7])  # shape [N]\n",
    "        self.C = torch.tensor(node_property[:, 4])   # shape [N]\n",
    "        self.sub_idx = torch.tensor(node_property[:, 3]) # shape [N]\n",
    "        self.V_th = torch.tensor(node_property[:, 8])  # shape [N]\n",
    "        self.V_reset = torch.tensor(node_property[:, 9]) # shape [N]\n",
    "        self.T_ref = torch.tensor(node_property[:, 5]) # shape [N]\n",
    "\n",
    "        self.t_ik_last = torch.zeros([N]) # shape [N]\n",
    "        self.active = torch.tensor(False) # bool\n",
    "        self.V_i = torch.ones([N]) * (self.V_th + self.V_reset)/2  # membrane potential, shape: [N]\n",
    "        self.J_ui = torch.zeros([K, N])  # shape [K, N]\n",
    "        self.t = torch.tensor(0.)  # scalar\n",
    "\n",
    "    def update_J_ui(self, spikes):\n",
    "        # spikes: num of spike\n",
    "        \n",
    "        J_ui_activate_part = torch.ones(4,1) * spikes\n",
    "        self.J_ui = self.J_ui * torch.exp(-self.delta_t / self.tau_ui)\n",
    "        self.J_ui += J_ui_activate_part\n",
    "#         print(f'J_ui: {self.J_ui}')\n",
    "\n",
    "    def update_I_syn(self):\n",
    "        self.I_ui = self.g_ui * (self.V_ui - self.V_i) * self.J_ui\n",
    "        self.I_syn = self.I_ui.sum(dim=0)\n",
    "#         print(f'I_syn: {self.I_syn}')\n",
    "        \n",
    "    def update_t_ik_last(self):\n",
    "#         print(f't_ik_last: {self.t_ik_last}')\n",
    "        self.t_ik_last = torch.where(self.active, self.t, self.t_ik_last)\n",
    "#         print(f't_ik_last after: {self.t_ik_last}')\n",
    "\n",
    "    def update_Vi(self):\n",
    "        \n",
    "        delta_Vi = -self.g_Li * (self.V_i - self.V_L) + self.I_syn + self.I_extern_Input\n",
    "        delta_Vi *= self.delta_t / self.C\n",
    "        Vi_normal = self.V_i + delta_Vi\n",
    "#         print(f'Vi_normal: {Vi_normal}')\n",
    "\n",
    "        is_not_saturated = (self.t >= self.t_ik_last + self.T_ref)\n",
    "#         print(f'is_not_saturated: {is_not_saturated}')\n",
    "        self.V_i = torch.where(is_not_saturated, Vi_normal, self.V_reset)\n",
    "#         print(f'V_i: {self.V_i}')\n",
    "        self.active = self.V_i >= self.V_th\n",
    "#         print(f'active: {self.active}')\n",
    "        self.V_i = torch.min(self.V_i, self.V_th)\n",
    "#         print(f'V_th: {self.V_th}')\n",
    "\n",
    "    def update(self, spikes):\n",
    "        self.t += self.delta_t\n",
    "        \n",
    "        self.update_J_ui(spikes)\n",
    "        self.update_I_syn()\n",
    "        self.update_t_ik_last()\n",
    "        self.update_Vi()\n",
    "\n",
    "        return self.t.tolist(), self.V_i.tolist()[0]"
   ]
  },
  {
   "cell_type": "code",
   "execution_count": 4,
   "metadata": {
    "ExecuteTime": {
     "end_time": "2020-11-09T15:35:25.394524Z",
     "start_time": "2020-11-09T15:35:25.389498Z"
    }
   },
   "outputs": [],
   "source": [
    "t = 1000 #ms\n",
    "sp = torch.poisson(torch.ones(t))\n",
    "pro = generate_property()\n",
    "b = block(pro)"
   ]
  },
  {
   "cell_type": "code",
   "execution_count": 5,
   "metadata": {
    "ExecuteTime": {
     "end_time": "2020-11-09T15:35:25.728591Z",
     "start_time": "2020-11-09T15:35:25.603926Z"
    }
   },
   "outputs": [],
   "source": [
    "x_out = []\n",
    "y_out = []\n",
    "for i in range(t):\n",
    "    x, y = b.update(sp[i])\n",
    "    x_out.append(x)\n",
    "    y_out.append(y)"
   ]
  },
  {
   "cell_type": "code",
   "execution_count": 6,
   "metadata": {
    "ExecuteTime": {
     "end_time": "2020-11-09T15:35:25.906122Z",
     "start_time": "2020-11-09T15:35:25.903130Z"
    }
   },
   "outputs": [
    {
     "ename": "ModuleNotFoundError",
     "evalue": "No module named 'matplotlib'",
     "output_type": "error",
     "traceback": [
      "\u001b[1;31m---------------------------------------------------------------------------\u001b[0m",
      "\u001b[1;31mModuleNotFoundError\u001b[0m                       Traceback (most recent call last)",
      "\u001b[1;32m<ipython-input-6-a0d2faabd9e9>\u001b[0m in \u001b[0;36m<module>\u001b[1;34m\u001b[0m\n\u001b[1;32m----> 1\u001b[1;33m \u001b[1;32mimport\u001b[0m \u001b[0mmatplotlib\u001b[0m\u001b[1;33m.\u001b[0m\u001b[0mpyplot\u001b[0m \u001b[1;32mas\u001b[0m \u001b[0mplt\u001b[0m\u001b[1;33m\u001b[0m\u001b[1;33m\u001b[0m\u001b[0m\n\u001b[0m",
      "\u001b[1;31mModuleNotFoundError\u001b[0m: No module named 'matplotlib'"
     ]
    }
   ],
   "source": [
    "import matplotlib.pyplot as plt"
   ]
  },
  {
   "cell_type": "code",
   "execution_count": 7,
   "metadata": {
    "ExecuteTime": {
     "end_time": "2020-11-09T15:35:26.547084Z",
     "start_time": "2020-11-09T15:35:26.438342Z"
    }
   },
   "outputs": [
    {
     "ename": "NameError",
     "evalue": "name 'plt' is not defined",
     "output_type": "error",
     "traceback": [
      "\u001b[1;31m---------------------------------------------------------------------------\u001b[0m",
      "\u001b[1;31mNameError\u001b[0m                                 Traceback (most recent call last)",
      "\u001b[1;32m<ipython-input-7-980cbeecc48b>\u001b[0m in \u001b[0;36m<module>\u001b[1;34m\u001b[0m\n\u001b[1;32m----> 1\u001b[1;33m \u001b[0mplt\u001b[0m\u001b[1;33m.\u001b[0m\u001b[0msubplots\u001b[0m\u001b[1;33m(\u001b[0m\u001b[0mfigsize\u001b[0m\u001b[1;33m=\u001b[0m\u001b[1;33m(\u001b[0m\u001b[1;36m16\u001b[0m\u001b[1;33m,\u001b[0m \u001b[1;36m10\u001b[0m\u001b[1;33m)\u001b[0m\u001b[1;33m)\u001b[0m\u001b[1;33m\u001b[0m\u001b[1;33m\u001b[0m\u001b[0m\n\u001b[0m\u001b[0;32m      2\u001b[0m \u001b[0mplt\u001b[0m\u001b[1;33m.\u001b[0m\u001b[0mplot\u001b[0m\u001b[1;33m(\u001b[0m\u001b[0mx_out\u001b[0m\u001b[1;33m,\u001b[0m\u001b[0my_out\u001b[0m\u001b[1;33m)\u001b[0m  \u001b[1;31m#画图\u001b[0m\u001b[1;33m\u001b[0m\u001b[1;33m\u001b[0m\u001b[0m\n\u001b[0;32m      3\u001b[0m \u001b[0mplt\u001b[0m\u001b[1;33m.\u001b[0m\u001b[0mshow\u001b[0m\u001b[1;33m(\u001b[0m\u001b[1;33m)\u001b[0m\u001b[1;31m#loss函数图\u001b[0m\u001b[1;33m\u001b[0m\u001b[1;33m\u001b[0m\u001b[0m\n",
      "\u001b[1;31mNameError\u001b[0m: name 'plt' is not defined"
     ]
    }
   ],
   "source": [
    "plt.subplots(figsize=(16, 10))\n",
    "plt.plot(x_out,y_out)  #画图\n",
    "plt.show()#loss函数图"
   ]
  },
  {
   "cell_type": "code",
   "execution_count": null,
   "metadata": {},
   "outputs": [],
   "source": []
  }
 ],
 "metadata": {
  "kernelspec": {
   "display_name": "Python 3",
   "language": "python",
   "name": "python3"
  },
  "language_info": {
   "codemirror_mode": {
    "name": "ipython",
    "version": 3
   },
   "file_extension": ".py",
   "mimetype": "text/x-python",
   "name": "python",
   "nbconvert_exporter": "python",
   "pygments_lexer": "ipython3",
   "version": "3.7.9"
  },
  "latex_envs": {
   "LaTeX_envs_menu_present": true,
   "autoclose": true,
   "autocomplete": true,
   "bibliofile": "biblio.bib",
   "cite_by": "apalike",
   "current_citInitial": 1,
   "eqLabelWithNumbers": true,
   "eqNumInitial": 1,
   "hotkeys": {
    "equation": "Ctrl-E",
    "itemize": "Ctrl-I"
   },
   "labels_anchors": false,
   "latex_user_defs": false,
   "report_style_numbering": true,
   "user_envs_cfg": true
  },
  "varInspector": {
   "cols": {
    "lenName": 16,
    "lenType": 16,
    "lenVar": 40
   },
   "kernels_config": {
    "python": {
     "delete_cmd_postfix": "",
     "delete_cmd_prefix": "del ",
     "library": "var_list.py",
     "varRefreshCmd": "print(var_dic_list())"
    },
    "r": {
     "delete_cmd_postfix": ") ",
     "delete_cmd_prefix": "rm(",
     "library": "var_list.r",
     "varRefreshCmd": "cat(var_dic_list()) "
    }
   },
   "types_to_exclude": [
    "module",
    "function",
    "builtin_function_or_method",
    "instance",
    "_Feature"
   ],
   "window_display": false
  }
 },
 "nbformat": 4,
 "nbformat_minor": 4
}
