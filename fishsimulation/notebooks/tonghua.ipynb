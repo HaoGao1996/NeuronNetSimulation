{
 "cells": [
  {
   "cell_type": "code",
   "execution_count": 1,
   "metadata": {},
   "outputs": [],
   "source": [
    "import torch\n",
    "import numpy as np\n",
    "import matplotlib.pyplot as plt\n",
    "import pickle\n",
    "import copy"
   ]
  },
  {
   "cell_type": "code",
   "execution_count": 2,
   "metadata": {},
   "outputs": [],
   "source": [
    "np.random.seed(2020)\n",
    "geshuN=100\n",
    "mu0=np.array([0.012,0.15,-60,0,0])#0.012 and 0.00083\n",
    "C0=np.array([[0.00001,0,0,0,0],[0,0.00001,0,0,0],[0,0,0,0,0],[0,0,0,0,0],[0,0,0,0,0]])\n",
    "z0n=np.random.multivariate_normal(mu0,C0,geshuN)"
   ]
  },
  {
   "cell_type": "code",
   "execution_count": 3,
   "metadata": {},
   "outputs": [
    {
     "name": "stdout",
     "output_type": "stream",
     "text": [
      "(100, 5)\n"
     ]
    }
   ],
   "source": [
    "print(z0n.shape)"
   ]
  },
  {
   "cell_type": "code",
   "execution_count": 4,
   "metadata": {},
   "outputs": [
    {
     "name": "stdout",
     "output_type": "stream",
     "text": [
      "[ 1.22389173e-02  1.44406419e-01 -6.00000000e+01  0.00000000e+00\n",
      "  0.00000000e+00]\n"
     ]
    }
   ],
   "source": [
    "print(z0n[0,:])"
   ]
  },
  {
   "cell_type": "code",
   "execution_count": 5,
   "metadata": {},
   "outputs": [],
   "source": [
    "# print(z0n)"
   ]
  },
  {
   "cell_type": "code",
   "execution_count": 6,
   "metadata": {},
   "outputs": [],
   "source": [
    "with open('Abos.pickle','rb+') as f:\n",
    "    A=pickle.load(f)"
   ]
  },
  {
   "cell_type": "code",
   "execution_count": 7,
   "metadata": {},
   "outputs": [],
   "source": [
    "with open('Ga_xinhao.pickle','rb+') as f:\n",
    "    Yt=pickle.load(f)"
   ]
  },
  {
   "cell_type": "code",
   "execution_count": 8,
   "metadata": {},
   "outputs": [
    {
     "name": "stdout",
     "output_type": "stream",
     "text": [
      "torch.Size([10000])\n"
     ]
    }
   ],
   "source": [
    "print(Yt.shape)"
   ]
  },
  {
   "cell_type": "code",
   "execution_count": 9,
   "metadata": {},
   "outputs": [
    {
     "name": "stdout",
     "output_type": "stream",
     "text": [
      "(4, 10001)\n"
     ]
    }
   ],
   "source": [
    "print(A.shape)"
   ]
  },
  {
   "cell_type": "code",
   "execution_count": null,
   "metadata": {},
   "outputs": [],
   "source": []
  },
  {
   "cell_type": "code",
   "execution_count": 10,
   "metadata": {},
   "outputs": [],
   "source": [
    "def generate_property(gu1,gu2):\n",
    "    # each node contain such property:\n",
    "    #          E/I, blocked_in_stat, I_extern_Input, sub_block_idx, C, T_ref, g_Li, V_L, V_th, V_reset, g_ui, V_ui, tao_ui\n",
    "    #   size:  1,   1,               1,                1,           1, 1,     1,    1,   1,    1,       4     4,    4\n",
    "    #   dtype: b,   b,               f,                i,           f, f,     f,    f,   f,    f,       f,    f,    f\n",
    "    # b means bool(although storage as float), f means float.\n",
    "\n",
    "    property = np.zeros([1, 22], dtype=np.float32)\n",
    "    E_thresh = 1\n",
    "    property[:, 0] = 1\n",
    "\n",
    "    property[:, 1] = 0\n",
    "\n",
    "    property[:, 2] = 0\n",
    "\n",
    "    property[:, 3] = 0\n",
    "    property[:, 4] = 1\n",
    "    property[:, 5] = 5\n",
    "    property[:, 6] = 0.001\n",
    "    property[:, 7] = -75\n",
    "    property[:, 8] = -50\n",
    "    property[:, 9] = -65\n",
    "\n",
    "#     g_ui =np.array([5/275, 5/4000, 3/30, 3/730])\n",
    "    g_ui =np.array([gu1, gu2, 3/60, 3/1460])\n",
    "    g_ui =g_ui if isinstance(g_ui, np.ndarray) else np.array(g_ui)\n",
    "    property[:, 10:14] = g_ui\n",
    "    \n",
    "    V_ui = np.array([0, 0, -70, -100])\n",
    "    V_ui =  V_ui  if isinstance(V_ui, np.ndarray) else np.array(V_ui)\n",
    "    property[:, 14:18] = V_ui\n",
    "    \n",
    "    tao_ui =np.array ([2, 40, 10, 50])\n",
    "#     tao_ui =np.array ([1, 20, 5, 25])\n",
    "    tao_ui = tao_ui if isinstance(tao_ui, np.ndarray) else np.array(tao_ui)\n",
    "\n",
    "    property[:, 18:22] = tao_ui\n",
    "    \n",
    "\n",
    "    return property"
   ]
  },
  {
   "cell_type": "code",
   "execution_count": 11,
   "metadata": {},
   "outputs": [],
   "source": [
    "def get_nextgui(node_property,bosong,J_uiold,V_i):\n",
    "    I_extern_Input = torch.tensor(node_property[:, 2]) # extern_input index , shape[K]\n",
    "    V_ui =torch.tensor(node_property[:, 14:18].reshape([4,1]))  # AMPA, NMDA, GABAa and GABAb potential, shape [K, N]\n",
    "    tau_ui = torch.tensor(node_property[:, 18:22].reshape([4,1]))# shape [K, N]\n",
    "    g_ui = torch.tensor(node_property[:, 10:14].reshape([4,1])) # shape [K, N]\n",
    "    g_Li = torch.tensor(node_property[:, 6])  # shape [N]\n",
    "    V_L = torch.tensor(node_property[:, 7])  # shape [N]\n",
    "    C = torch.tensor(node_property[:, 4])   # shape [N]\n",
    "    sub_idx = torch.tensor(node_property[:, 3]) # shape [N]\n",
    "    V_th = torch.tensor(node_property[:, 8])  # shape [N]\n",
    "    V_reset = torch.tensor(node_property[:, 9]) # shape [N]\n",
    "    T_ref = torch.tensor(node_property[:, 5]) # shape [N]\n",
    "    \n",
    "    \n",
    "    J_ui = J_uiold * torch.exp(-1 / tau_ui) #shape:4*1####\n",
    "    bosong1= torch.tensor(bosong)####产生01的泊松分布\n",
    "    J_ui_activate_part = bosong1.view(4,1) # !!! this part can be sparse.#####输入一个泊松分布\n",
    "    J_ui += J_ui_activate_part\n",
    "    \n",
    "    return J_ui\n",
    "    \n",
    "    \n",
    "def get_nextvi(node_property,J_ui,V_i):\n",
    "    I_extern_Input = torch.tensor(node_property[:, 2]) # extern_input index , shape[K]\n",
    "    V_ui =torch.tensor(node_property[:, 14:18].reshape([4,1]))  # AMPA, NMDA, GABAa and GABAb potential, shape [K, N]\n",
    "    tau_ui = torch.tensor(node_property[:, 18:22].reshape([4,1]))# shape [K, N]\n",
    "    g_ui = torch.tensor(node_property[:, 10:14].reshape([4,1])) # shape [K, N]\n",
    "    g_Li = torch.tensor(node_property[:, 6])  # shape [N]\n",
    "    V_L = torch.tensor(node_property[:, 7])  # shape [N]\n",
    "    C = torch.tensor(node_property[:, 4])   # shape [N]\n",
    "    sub_idx = torch.tensor(node_property[:, 3]) # shape [N]\n",
    "    V_th = torch.tensor(node_property[:, 8])  # shape [N]\n",
    "    V_reset = torch.tensor(node_property[:, 9]) # shape [N]\n",
    "    T_ref = torch.tensor(node_property[:, 5]) # shape [N]\n",
    "    \n",
    "    \n",
    "    I_ui = g_ui * (V_ui - V_i) * J_ui\n",
    "        # [K, N]            [K, N] - [K, 1]\n",
    "    I_syn = I_ui.sum(dim=0)\n",
    "    \n",
    "    \n",
    "    main_part = -g_Li * (V_i - V_L)\n",
    "    C_diff_Vi = main_part + I_syn + I_extern_Input\n",
    "    delta_Vi = 1 / C * C_diff_Vi\n",
    "\n",
    "    Vi_normal = V_i + delta_Vi \n",
    "    V_i = torch.min(Vi_normal,V_th)\n",
    "    \n",
    "    return V_i\n",
    "    \n",
    "\n",
    "    \n",
    "    "
   ]
  },
  {
   "cell_type": "code",
   "execution_count": 12,
   "metadata": {
    "scrolled": true
   },
   "outputs": [],
   "source": [
    "#定义函数zj+1,n=g(zj,n)+noise\n",
    "alfa=0.1\n",
    "beta=0.1\n",
    "yita=0.1\n",
    "J=200\n",
    "J_ui=torch.zeros([4, 1])\n",
    "znextn=torch.zeros([geshuN,5])\n",
    "z1n=torch.zeros([geshuN,5])\n",
    "zn_outcome=torch.zeros([geshuN,5])\n",
    "zn_outcome=z0n\n",
    "z1n=z0n\n",
    "k=np.ones(geshuN).reshape((geshuN,1))\n",
    "a_allout=[]\n",
    "H=np.array([0,0,0,0,1])\n",
    "H=H.reshape((1,5))\n",
    "H_t=H.reshape((5,1))\n",
    "gama=0.05#观测数据的噪声\n",
    "Yt=np.array(Yt)\n",
    "\n",
    "for i in range(J):\n",
    "    znextn=zn_outcome\n",
    "    bosong=A[:,i]\n",
    "    zn_outcome=copy.deepcopy(zn_outcome)\n",
    "    a_allout.append(zn_outcome)\n",
    "#     print(zn_outcome[0,:])\n",
    "    \n",
    "    for j in range(geshuN):###geshuN\n",
    "        propertyy=generate_property(znextn[j,0],znextn[j,1])\n",
    "        V_i=znextn[j,2]\n",
    "        if V_i>=-50:\n",
    "            z0n[j,2]=-65\n",
    "            k[j,0]=1\n",
    "            J_ui=get_nextgui(propertyy,bosong,J_ui,V_i)\n",
    "        elif V_i==-65:\n",
    "            if k[j,0]<4:\n",
    "                z0n[j,2]=-65\n",
    "                k[j,0]=k[j,0]+1\n",
    "                J_ui=get_nextgui(propertyy,bosong,J_ui,V_i)\n",
    "            else:\n",
    "                V_i=get_nextvi(propertyy,J_ui,V_i)\n",
    "                J_ui=get_nextgui(propertyy,bosong,J_ui,V_i)\n",
    "                z0n[j,2]=V_i\n",
    "        else:\n",
    "            V_i=get_nextvi(propertyy,J_ui,V_i)\n",
    "            J_ui=get_nextgui(propertyy,bosong,J_ui,V_i)\n",
    "            z0n[j,2]=V_i\n",
    "        z0n[j,0]=znextn[j,0]\n",
    "        z0n[j,1]=znextn[j,1]\n",
    "        if z0n[j,2]==-50:\n",
    "            z0n[j,3]=yita*znextn[j,3]+1\n",
    "        else:\n",
    "            z0n[j,3]=znextn[j,3]\n",
    "            \n",
    "        z0n[j,4]=alfa*(z0n[j,3]+beta)\n",
    "#         print(\"迭代后:\",z0n[j,:])\n",
    "        C1=np.array([[0.00001,0,0,0,0],[0,0.00001,0,0,0],[0,0,0,0,0],[0,0,0,0,0],[0,0,0,0,0]])  \n",
    "        z1n[j,:]=np.random.multivariate_normal(z0n[j,:],C1,1)\n",
    "#         print(\"z1n,noise后\",z1n[j,:]) \n",
    "\n",
    "\n",
    "    muj_hat=np.mean(z1n,axis=0).reshape((1,5))#1*5\n",
    "    sum1=np.zeros([5,5])\n",
    "    for g in range(geshuN):\n",
    "        xmeant=z1n[g,:].reshape((1,5))-muj_hat\n",
    "        sum1=sum1+np.dot(xmeant.reshape((5,1)),xmeant)#####\n",
    "    Cj_hat=sum1/(geshuN-1)#5*5\n",
    "    \n",
    "#     Sj=np.dot(np.dot(H, Cj_hat),H_t)+np.random.normal(0.1, gama, 1)#1*1\n",
    "    Sj=np.dot(np.dot(H, Cj_hat),H_t)+gama\n",
    "    Kj=np.dot(Cj_hat,H_t)/Sj#5*1\n",
    "#     Kj[2,0]=0\n",
    "#     print(Kj)\n",
    "    yjn=np.random.normal(Yt[0],0.05,geshuN).reshape((geshuN,1))\n",
    "    sigamain=np.zeros(geshuN)\n",
    "    for p in range(geshuN):\n",
    "        sigamain[p]=yjn[p,:]-np.dot(H,z1n[p,:].reshape((5,1)))#1*1\n",
    "        zn_outcome[p,:]=z1n[p,:]+(sigamain[p]*Kj).reshape((1,5))\n",
    "    \n",
    "    \n",
    "\n",
    "\n",
    "\n",
    "\n",
    "\n"
   ]
  },
  {
   "cell_type": "code",
   "execution_count": 13,
   "metadata": {},
   "outputs": [],
   "source": [
    "nnn=np.array(a_allout)"
   ]
  },
  {
   "cell_type": "code",
   "execution_count": 14,
   "metadata": {},
   "outputs": [
    {
     "name": "stdout",
     "output_type": "stream",
     "text": [
      "(200, 100, 5)\n"
     ]
    }
   ],
   "source": [
    "print(nnn.shape)"
   ]
  },
  {
   "cell_type": "code",
   "execution_count": 15,
   "metadata": {},
   "outputs": [],
   "source": [
    "# print(nnn[9,:,:])"
   ]
  },
  {
   "cell_type": "code",
   "execution_count": 16,
   "metadata": {},
   "outputs": [],
   "source": [
    "jun1=[]\n",
    "jun2=[]\n",
    "jun3=[]\n",
    "for i in range(J):\n",
    "    jj1=nnn[i,:,:]\n",
    "    pingjun=np.mean(jj1,axis=0).reshape((1,5))\n",
    "    jun1.append(pingjun[0,0])\n",
    "    jun2.append(pingjun[0,1])\n",
    "    jun3.append(pingjun[0,2])"
   ]
  },
  {
   "cell_type": "code",
   "execution_count": 17,
   "metadata": {},
   "outputs": [],
   "source": [
    "# print(jun2)"
   ]
  },
  {
   "cell_type": "code",
   "execution_count": 18,
   "metadata": {},
   "outputs": [],
   "source": [
    "xtt=np.linspace(1,J,J)"
   ]
  },
  {
   "cell_type": "code",
   "execution_count": 19,
   "metadata": {},
   "outputs": [],
   "source": [
    "# print(xtt)"
   ]
  },
  {
   "cell_type": "code",
   "execution_count": 20,
   "metadata": {},
   "outputs": [
    {
     "data": {
      "text/plain": [
       "[<matplotlib.lines.Line2D at 0x1c23c77d7c8>]"
      ]
     },
     "execution_count": 20,
     "metadata": {},
     "output_type": "execute_result"
    },
    {
     "data": {
      "image/png": "[encoded data removed]",
      "text/plain": [
       "<Figure size 432x288 with 1 Axes>"
      ]
     },
     "metadata": {
      "needs_background": "light"
     },
     "output_type": "display_data"
    }
   ],
   "source": [
    "plt.plot(xtt,jun1,'ro')"
   ]
  },
  {
   "cell_type": "code",
   "execution_count": 21,
   "metadata": {},
   "outputs": [
    {
     "data": {
      "text/plain": [
       "[<matplotlib.lines.Line2D at 0x1c23c8f1588>]"
      ]
     },
     "execution_count": 21,
     "metadata": {},
     "output_type": "execute_result"
    },
    {
     "data": {
      "image/png": "[encoded data removed]",
      "text/plain": [
       "<Figure size 432x288 with 1 Axes>"
      ]
     },
     "metadata": {
      "needs_background": "light"
     },
     "output_type": "display_data"
    }
   ],
   "source": [
    "plt.plot(xtt,jun2,'ro')"
   ]
  },
  {
   "cell_type": "code",
   "execution_count": 22,
   "metadata": {},
   "outputs": [
    {
     "data": {
      "text/plain": [
       "[<matplotlib.lines.Line2D at 0x1c23c96a8c8>]"
      ]
     },
     "execution_count": 22,
     "metadata": {},
     "output_type": "execute_result"
    },
    {
     "data": {
      "image/png": "[encoded data removed]",
      "text/plain": [
       "<Figure size 432x288 with 1 Axes>"
      ]
     },
     "metadata": {
      "needs_background": "light"
     },
     "output_type": "display_data"
    }
   ],
   "source": [
    "plt.plot(xtt,jun3,'ro')"
   ]
  },
  {
   "cell_type": "code",
   "execution_count": 23,
   "metadata": {},
   "outputs": [
    {
     "ename": "IndexError",
     "evalue": "index 498 is out of bounds for axis 0 with size 200",
     "output_type": "error",
     "traceback": [
      "\u001b[1;31m---------------------------------------------------------------------------\u001b[0m",
      "\u001b[1;31mIndexError\u001b[0m                                Traceback (most recent call last)",
      "\u001b[1;32m<ipython-input-23-853eb4237eb7>\u001b[0m in \u001b[0;36m<module>\u001b[1;34m()\u001b[0m\n\u001b[1;32m----> 1\u001b[1;33m \u001b[0mjj1\u001b[0m\u001b[1;33m=\u001b[0m\u001b[0mnnn\u001b[0m\u001b[1;33m[\u001b[0m\u001b[1;36m498\u001b[0m\u001b[1;33m,\u001b[0m\u001b[1;33m:\u001b[0m\u001b[1;33m,\u001b[0m\u001b[1;33m:\u001b[0m\u001b[1;33m]\u001b[0m\u001b[1;33m\u001b[0m\u001b[1;33m\u001b[0m\u001b[0m\n\u001b[0m\u001b[0;32m      2\u001b[0m \u001b[0mpingjun\u001b[0m\u001b[1;33m=\u001b[0m\u001b[0mnp\u001b[0m\u001b[1;33m.\u001b[0m\u001b[0mmean\u001b[0m\u001b[1;33m(\u001b[0m\u001b[0mjj1\u001b[0m\u001b[1;33m,\u001b[0m\u001b[0maxis\u001b[0m\u001b[1;33m=\u001b[0m\u001b[1;36m0\u001b[0m\u001b[1;33m)\u001b[0m\u001b[1;33m\u001b[0m\u001b[1;33m\u001b[0m\u001b[0m\n",
      "\u001b[1;31mIndexError\u001b[0m: index 498 is out of bounds for axis 0 with size 200"
     ]
    }
   ],
   "source": [
    "jj1=nnn[498,:,:]\n",
    "pingjun=np.mean(jj1,axis=0)"
   ]
  },
  {
   "cell_type": "code",
   "execution_count": null,
   "metadata": {},
   "outputs": [],
   "source": [
    "print(pingjun)"
   ]
  },
  {
   "cell_type": "code",
   "execution_count": null,
   "metadata": {},
   "outputs": [],
   "source": [
    "print(jun3[1198],jun1[1198],jun2[1198])"
   ]
  },
  {
   "cell_type": "code",
   "execution_count": null,
   "metadata": {},
   "outputs": [],
   "source": [
    "print(nnn[1198,:,:])"
   ]
  },
  {
   "cell_type": "code",
   "execution_count": null,
   "metadata": {},
   "outputs": [],
   "source": []
  }
 ],
 "metadata": {
  "kernelspec": {
   "display_name": "Python 3",
   "language": "python",
   "name": "python3"
  },
  "language_info": {
   "codemirror_mode": {
    "name": "ipython",
    "version": 3
   },
   "file_extension": ".py",
   "mimetype": "text/x-python",
   "name": "python",
   "nbconvert_exporter": "python",
   "pygments_lexer": "ipython3",
   "version": "3.7.9"
  },
  "latex_envs": {
   "LaTeX_envs_menu_present": true,
   "autoclose": true,
   "autocomplete": true,
   "bibliofile": "biblio.bib",
   "cite_by": "apalike",
   "current_citInitial": 1,
   "eqLabelWithNumbers": true,
   "eqNumInitial": 1,
   "hotkeys": {
    "equation": "Ctrl-E",
    "itemize": "Ctrl-I"
   },
   "labels_anchors": false,
   "latex_user_defs": false,
   "report_style_numbering": true,
   "user_envs_cfg": true
  },
  "varInspector": {
   "cols": {
    "lenName": 16,
    "lenType": 16,
    "lenVar": 40
   },
   "kernels_config": {
    "python": {
     "delete_cmd_postfix": "",
     "delete_cmd_prefix": "del ",
     "library": "var_list.py",
     "varRefreshCmd": "print(var_dic_list())"
    },
    "r": {
     "delete_cmd_postfix": ") ",
     "delete_cmd_prefix": "rm(",
     "library": "var_list.r",
     "varRefreshCmd": "cat(var_dic_list()) "
    }
   },
   "types_to_exclude": [
    "module",
    "function",
    "builtin_function_or_method",
    "instance",
    "_Feature"
   ],
   "window_display": false
  }
 },
 "nbformat": 4,
 "nbformat_minor": 4
}
