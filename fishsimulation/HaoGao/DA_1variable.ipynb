{
 "cells": [
  {
   "cell_type": "code",
   "execution_count": 3,
   "metadata": {
    "ExecuteTime": {
     "end_time": "2020-11-30T12:00:19.690104Z",
     "start_time": "2020-11-30T12:00:19.687106Z"
    }
   },
   "outputs": [],
   "source": [
    "import torch"
   ]
  },
  {
   "cell_type": "code",
   "execution_count": 4,
   "metadata": {
    "ExecuteTime": {
     "end_time": "2020-11-30T12:00:20.191473Z",
     "start_time": "2020-11-30T12:00:20.177360Z"
    }
   },
   "outputs": [],
   "source": [
    "class Block(object):\n",
    "    def __init__(self, node_property, w_uij, delta_tb=1):\n",
    "        \"\"\"\n",
    "        A block is a set of spiking neurons with inner full connections, we consider 4 type connections:\n",
    "        AMPA, NMDA, GABAa and GABAb\n",
    "\n",
    "        :param node_property:\n",
    "        :param w_uij:\n",
    "            [K, N]\n",
    "        :param delta_t:\n",
    "        \"\"\"\n",
    "\n",
    "        K = w_uij.shape[0]   # K: connections kind, = 4 (AMPA, NMDA, GABAa and GABAb)\n",
    "        self.K = K\n",
    "        N = w_uij.shape[1]   # N: numbers of neural cells\n",
    "        self.N = N\n",
    "        self.w_uij = w_uij   # shape: [K, N]\n",
    "\n",
    "        self.delta_tb = delta_tb  # scalar int\n",
    "        self.t = 0  # scalar int\n",
    "\n",
    "        self.update_property(node_property)\n",
    "\n",
    "        self.t_ik_last = torch.zeros((N, ), dtype=int)  # shape [N]\n",
    "        self.V_i = torch.ones((N, )) * (self.V_th + self.V_reset) / 2  # membrane potential, shape: [N]\n",
    "        self.J_ui = torch.zeros((K, N))  # shape [K, N]\n",
    "\n",
    "    def update_property(self, node_property):\n",
    "        self.I_extern_Input = torch.tensor(node_property[:, 2])  # extern_input index , shape[K]\n",
    "        self.sub_idx = torch.tensor(node_property[:, 3])  # shape [N]\n",
    "        self.C = torch.tensor(node_property[:, 4])  # shape [N]\n",
    "        self.T_ref = torch.tensor(node_property[:, 5])  # shape [N]\n",
    "        self.g_Li = torch.tensor(node_property[:, 6])  # shape [N]\n",
    "        self.V_L = torch.tensor(node_property[:, 7])  # shape [N]\n",
    "        self.V_th = torch.tensor(node_property[:, 8])  # shape [N]\n",
    "        self.V_reset = torch.tensor(node_property[:, 9])  # shape [N]\n",
    "        self.g_ui = torch.tensor(node_property[:, 10:14].reshape([4, 1]))  # shape [K, N]\n",
    "        self.V_ui = torch.tensor(\n",
    "            node_property[:, 14:18].reshape([4, 1]))  # AMPA, NMDA, GABAa and GABAb potential, shape [K, N]\n",
    "        self.tau_ui = torch.tensor(node_property[:, 18:22].reshape([4, 1]))  # shape [K, N]\n",
    "\n",
    "    def update(self, d):\n",
    "        \"\"\"\n",
    "        :param d: tensor\n",
    "            density of each connection: shape [K, N]\n",
    "        :return:\n",
    "            active, shape [N, 1]\n",
    "        \"\"\"\n",
    "        self.t += self.delta_tb\n",
    "\n",
    "        self.J_ui = self.J_ui * torch.exp(-self.delta_tb / self.tau_ui)\n",
    "        self.J_ui += self.w_uij * d\n",
    "\n",
    "        I_ui = self.g_ui * (self.V_ui - self.V_i) * self.J_ui\n",
    "        I_syn = I_ui.sum(dim=0)\n",
    "\n",
    "        delta_Vi = -self.g_Li * (self.V_i - self.V_L) + I_syn + self.I_extern_Input\n",
    "        delta_Vi *= self.delta_tb / self.C\n",
    "\n",
    "        Vi_normal = self.V_i + delta_Vi\n",
    "\n",
    "        is_not_saturated = (self.t >= self.t_ik_last + self.T_ref)\n",
    "        self.V_i = torch.where(is_not_saturated, Vi_normal, self.V_reset)\n",
    "        active = self.V_i >= self.V_th\n",
    "        self.V_i = torch.min(self.V_i, self.V_th)\n",
    "\n",
    "        self.t_ik_last = torch.where(active, torch.tensor(self.t), self.t_ik_last)\n",
    "\n",
    "        return active\n",
    "\n",
    "    def __repr__(self):\n",
    "        return '\\n'.join(['Block object'])"
   ]
  },
  {
   "cell_type": "code",
   "execution_count": 6,
   "metadata": {
    "ExecuteTime": {
     "end_time": "2020-11-30T12:32:40.701591Z",
     "start_time": "2020-11-30T12:32:40.682618Z"
    }
   },
   "outputs": [
    {
     "ename": "NameError",
     "evalue": "name 'ceil' is not defined",
     "output_type": "error",
     "traceback": [
      "\u001b[1;31m---------------------------------------------------------------------------\u001b[0m",
      "\u001b[1;31mNameError\u001b[0m                                 Traceback (most recent call last)",
      "\u001b[1;32m<ipython-input-6-76cebaf11c89>\u001b[0m in \u001b[0;36m<module>\u001b[1;34m\u001b[0m\n\u001b[1;32m----> 1\u001b[1;33m \u001b[0mceil\u001b[0m\u001b[1;33m(\u001b[0m\u001b[1;36m10\u001b[0m\u001b[1;33m/\u001b[0m\u001b[1;36m3\u001b[0m\u001b[1;33m)\u001b[0m\u001b[1;33m\u001b[0m\u001b[1;33m\u001b[0m\u001b[0m\n\u001b[0m",
      "\u001b[1;31mNameError\u001b[0m: name 'ceil' is not defined"
     ]
    }
   ],
   "source": [
    "ceil(10/3)"
   ]
  },
  {
   "cell_type": "code",
   "execution_count": 7,
   "metadata": {
    "ExecuteTime": {
     "end_time": "2020-11-30T15:46:07.120432Z",
     "start_time": "2020-11-30T15:46:07.110426Z"
    }
   },
   "outputs": [],
   "source": [
    "a = torch.tensor([True])"
   ]
  },
  {
   "cell_type": "code",
   "execution_count": 9,
   "metadata": {
    "ExecuteTime": {
     "end_time": "2020-11-30T15:46:17.362040Z",
     "start_time": "2020-11-30T15:46:17.350072Z"
    }
   },
   "outputs": [
    {
     "data": {
      "text/plain": [
       "True"
      ]
     },
     "execution_count": 9,
     "metadata": {},
     "output_type": "execute_result"
    }
   ],
   "source": [
    "a[0].tolist()"
   ]
  },
  {
   "cell_type": "code",
   "execution_count": null,
   "metadata": {},
   "outputs": [],
   "source": []
  }
 ],
 "metadata": {
  "kernelspec": {
   "display_name": "Python [conda env:pytorch]",
   "language": "python",
   "name": "conda-env-pytorch-py"
  },
  "language_info": {
   "codemirror_mode": {
    "name": "ipython",
    "version": 3
   },
   "file_extension": ".py",
   "mimetype": "text/x-python",
   "name": "python",
   "nbconvert_exporter": "python",
   "pygments_lexer": "ipython3",
   "version": "3.7.9"
  },
  "latex_envs": {
   "LaTeX_envs_menu_present": true,
   "autoclose": true,
   "autocomplete": true,
   "bibliofile": "biblio.bib",
   "cite_by": "apalike",
   "current_citInitial": 1,
   "eqLabelWithNumbers": true,
   "eqNumInitial": 1,
   "hotkeys": {
    "equation": "Ctrl-E",
    "itemize": "Ctrl-I"
   },
   "labels_anchors": false,
   "latex_user_defs": false,
   "report_style_numbering": true,
   "user_envs_cfg": true
  },
  "varInspector": {
   "cols": {
    "lenName": 16,
    "lenType": 16,
    "lenVar": 40
   },
   "kernels_config": {
    "python": {
     "delete_cmd_postfix": "",
     "delete_cmd_prefix": "del ",
     "library": "var_list.py",
     "varRefreshCmd": "print(var_dic_list())"
    },
    "r": {
     "delete_cmd_postfix": ") ",
     "delete_cmd_prefix": "rm(",
     "library": "var_list.r",
     "varRefreshCmd": "cat(var_dic_list()) "
    }
   },
   "types_to_exclude": [
    "module",
    "function",
    "builtin_function_or_method",
    "instance",
    "_Feature"
   ],
   "window_display": false
  }
 },
 "nbformat": 4,
 "nbformat_minor": 2
}
